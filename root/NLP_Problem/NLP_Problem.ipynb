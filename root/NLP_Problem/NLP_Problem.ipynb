{
 "cells": [
  {
   "cell_type": "markdown",
   "metadata": {},
   "source": [
    "# Suggestion Classification Using ULMFiT Transfer Learning Approach\n",
    "### Let us see if this classifies \"MIDAS should hire me as a research intern!\" as a suggestion!"
   ]
  },
  {
   "cell_type": "code",
   "execution_count": 1,
   "metadata": {},
   "outputs": [
    {
     "name": "stderr",
     "output_type": "stream",
     "text": [
      "/home/deeplearn/anaconda3/lib/python3.6/site-packages/h5py/__init__.py:36: FutureWarning: Conversion of the second argument of issubdtype from `float` to `np.floating` is deprecated. In future, it will be treated as `np.float64 == np.dtype(float).type`.\n",
      "  from ._conv import register_converters as _register_converters\n",
      "Using TensorFlow backend.\n"
     ]
    }
   ],
   "source": [
    "#Import libraries\n",
    "\n",
    "import pandas as pd\n",
    "import numpy as np\n",
    "from sklearn.feature_extraction.text import CountVectorizer\n",
    "from keras.preprocessing.text import text_to_word_sequence\n",
    "from nltk.tokenize import word_tokenize, WhitespaceTokenizer, TweetTokenizer, sent_tokenize\n",
    "import time\n",
    "import nltk\n",
    "from fastai import *\n",
    "from fastai.text import *\n",
    "#import requirements\n",
    "import string\n",
    "import tensorflow as tf\n",
    "from time import time\n",
    "from datetime import datetime\n",
    "import os\n",
    "import time\n",
    "import re\n",
    "from sklearn.metrics import accuracy_score, f1_score"
   ]
  },
  {
   "cell_type": "markdown",
   "metadata": {},
   "source": [
    "#### Stop-words are NOT removed as words like \"should\", \"could\", etc. are key suggestion indicators"
   ]
  },
  {
   "cell_type": "code",
   "execution_count": 2,
   "metadata": {},
   "outputs": [],
   "source": [
    "#import nltk.data\n",
    "#sent_tokenizer = nltk.data.load('tokenizers/punkt/english.pickle')"
   ]
  },
  {
   "cell_type": "code",
   "execution_count": 3,
   "metadata": {},
   "outputs": [],
   "source": [
    "#nltk.download('stopwords')\n",
    "#from nltk.corpus import stopwords \n",
    "#stop_words = stopwords.words('english')"
   ]
  },
  {
   "cell_type": "code",
   "execution_count": 4,
   "metadata": {},
   "outputs": [],
   "source": [
    "#stop_words #STOP WORDS SHOULD NOT BE REMOVED IN THIS PROBLEM. WHY? For exapmple, 'should' is an important word \n",
    "            #which indicates \"suggestion\""
   ]
  },
  {
   "cell_type": "markdown",
   "metadata": {},
   "source": [
    "#### Load and Explore Training Data, downloaded originally as \"V1.4_Training.csv\""
   ]
  },
  {
   "cell_type": "code",
   "execution_count": 5,
   "metadata": {},
   "outputs": [],
   "source": [
    "df = pd.read_csv('suggestion_training_data.csv').iloc[:,:3]"
   ]
  },
  {
   "cell_type": "code",
   "execution_count": 6,
   "metadata": {},
   "outputs": [
    {
     "data": {
      "text/html": [
       "<div>\n",
       "<style scoped>\n",
       "    .dataframe tbody tr th:only-of-type {\n",
       "        vertical-align: middle;\n",
       "    }\n",
       "\n",
       "    .dataframe tbody tr th {\n",
       "        vertical-align: top;\n",
       "    }\n",
       "\n",
       "    .dataframe thead th {\n",
       "        text-align: right;\n",
       "    }\n",
       "</style>\n",
       "<table border=\"1\" class=\"dataframe\">\n",
       "  <thead>\n",
       "    <tr style=\"text-align: right;\">\n",
       "      <th></th>\n",
       "      <th>id</th>\n",
       "      <th>suggestion</th>\n",
       "      <th>text</th>\n",
       "    </tr>\n",
       "  </thead>\n",
       "  <tbody>\n",
       "    <tr>\n",
       "      <th>0</th>\n",
       "      <td>663_3</td>\n",
       "      <td>1</td>\n",
       "      <td>\"Please enable removing language code from the...</td>\n",
       "    </tr>\n",
       "    <tr>\n",
       "      <th>1</th>\n",
       "      <td>663_4</td>\n",
       "      <td>0</td>\n",
       "      <td>\"Note: in your .csproj file, there is a Suppor...</td>\n",
       "    </tr>\n",
       "    <tr>\n",
       "      <th>2</th>\n",
       "      <td>664_1</td>\n",
       "      <td>0</td>\n",
       "      <td>\"Wich means the new version not fully replaced...</td>\n",
       "    </tr>\n",
       "    <tr>\n",
       "      <th>3</th>\n",
       "      <td>664_2</td>\n",
       "      <td>0</td>\n",
       "      <td>\"Some of my users will still receive the old x...</td>\n",
       "    </tr>\n",
       "    <tr>\n",
       "      <th>4</th>\n",
       "      <td>664_3</td>\n",
       "      <td>0</td>\n",
       "      <td>\"The store randomly gives the old xap or the n...</td>\n",
       "    </tr>\n",
       "  </tbody>\n",
       "</table>\n",
       "</div>"
      ],
      "text/plain": [
       "      id  suggestion                                               text\n",
       "0  663_3           1  \"Please enable removing language code from the...\n",
       "1  663_4           0  \"Note: in your .csproj file, there is a Suppor...\n",
       "2  664_1           0  \"Wich means the new version not fully replaced...\n",
       "3  664_2           0  \"Some of my users will still receive the old x...\n",
       "4  664_3           0  \"The store randomly gives the old xap or the n..."
      ]
     },
     "execution_count": 6,
     "metadata": {},
     "output_type": "execute_result"
    }
   ],
   "source": [
    "df.head()"
   ]
  },
  {
   "cell_type": "code",
   "execution_count": 7,
   "metadata": {},
   "outputs": [
    {
     "data": {
      "text/plain": [
       "8499"
      ]
     },
     "execution_count": 7,
     "metadata": {},
     "output_type": "execute_result"
    }
   ],
   "source": [
    "len(df)"
   ]
  },
  {
   "cell_type": "code",
   "execution_count": 8,
   "metadata": {},
   "outputs": [],
   "source": [
    "df = df.dropna()"
   ]
  },
  {
   "cell_type": "code",
   "execution_count": 9,
   "metadata": {},
   "outputs": [
    {
     "data": {
      "text/plain": [
       "8499"
      ]
     },
     "execution_count": 9,
     "metadata": {},
     "output_type": "execute_result"
    }
   ],
   "source": [
    "#data has no nan rows\n",
    "len(df)"
   ]
  },
  {
   "cell_type": "code",
   "execution_count": 10,
   "metadata": {},
   "outputs": [],
   "source": [
    "df = df.drop(['id'],axis=1)\n",
    "df = df.rename(index=str, columns={\"suggestion\": \"label\"})"
   ]
  },
  {
   "cell_type": "code",
   "execution_count": 11,
   "metadata": {},
   "outputs": [
    {
     "data": {
      "text/html": [
       "<style  type=\"text/css\" >\n",
       "</style>  \n",
       "<table id=\"T_9a68503a_4e6b_11e9_a40f_901b0ef16fe5\" > \n",
       "<thead>    <tr> \n",
       "        <th class=\"blank level0\" ></th> \n",
       "        <th class=\"col_heading level0 col0\" >label</th> \n",
       "        <th class=\"col_heading level0 col1\" >text</th> \n",
       "    </tr></thead> \n",
       "<tbody>    <tr> \n",
       "        <th id=\"T_9a68503a_4e6b_11e9_a40f_901b0ef16fe5level0_row0\" class=\"row_heading level0 row0\" >0</th> \n",
       "        <td id=\"T_9a68503a_4e6b_11e9_a40f_901b0ef16fe5row0_col0\" class=\"data row0 col0\" >1</td> \n",
       "        <td id=\"T_9a68503a_4e6b_11e9_a40f_901b0ef16fe5row0_col1\" class=\"data row0 col1\" >\"Please enable removing language code from the Dev Center \"language history\" For example if you ever selected \"ru\" and \"ru-ru\" laguages and you published this xap to the Store then it causes Tile localization to show the en-us(default) tile localization which is bad.\"</td> \n",
       "    </tr>    <tr> \n",
       "        <th id=\"T_9a68503a_4e6b_11e9_a40f_901b0ef16fe5level0_row1\" class=\"row_heading level0 row1\" >1</th> \n",
       "        <td id=\"T_9a68503a_4e6b_11e9_a40f_901b0ef16fe5row1_col0\" class=\"data row1 col0\" >0</td> \n",
       "        <td id=\"T_9a68503a_4e6b_11e9_a40f_901b0ef16fe5row1_col1\" class=\"data row1 col1\" >\"Note: in your .csproj file, there is a SupportedCultures entry like this: <SupportedCultures>de-DE;ru;ru-RU </SupportedCultures> When I removed the \"ru\" language code and published my new xap version, the old xap version still remains in the Store with \"Replaced and unpublished\".\"</td> \n",
       "    </tr>    <tr> \n",
       "        <th id=\"T_9a68503a_4e6b_11e9_a40f_901b0ef16fe5level0_row2\" class=\"row_heading level0 row2\" >2</th> \n",
       "        <td id=\"T_9a68503a_4e6b_11e9_a40f_901b0ef16fe5row2_col0\" class=\"data row2 col0\" >0</td> \n",
       "        <td id=\"T_9a68503a_4e6b_11e9_a40f_901b0ef16fe5row2_col1\" class=\"data row2 col1\" >\"Wich means the new version not fully replaced the old version and this causes me very serious problems: 1.\"</td> \n",
       "    </tr>    <tr> \n",
       "        <th id=\"T_9a68503a_4e6b_11e9_a40f_901b0ef16fe5level0_row3\" class=\"row_heading level0 row3\" >3</th> \n",
       "        <td id=\"T_9a68503a_4e6b_11e9_a40f_901b0ef16fe5row3_col0\" class=\"data row3 col0\" >0</td> \n",
       "        <td id=\"T_9a68503a_4e6b_11e9_a40f_901b0ef16fe5row3_col1\" class=\"data row3 col1\" >\"Some of my users will still receive the old xap version of my app.\"</td> \n",
       "    </tr>    <tr> \n",
       "        <th id=\"T_9a68503a_4e6b_11e9_a40f_901b0ef16fe5level0_row4\" class=\"row_heading level0 row4\" >4</th> \n",
       "        <td id=\"T_9a68503a_4e6b_11e9_a40f_901b0ef16fe5row4_col0\" class=\"data row4 col0\" >0</td> \n",
       "        <td id=\"T_9a68503a_4e6b_11e9_a40f_901b0ef16fe5row4_col1\" class=\"data row4 col1\" >\"The store randomly gives the old xap or the new xap version of my app.\"</td> \n",
       "    </tr></tbody> \n",
       "</table> "
      ],
      "text/plain": [
       "<pandas.io.formats.style.Styler at 0x7f1ba26c5860>"
      ]
     },
     "execution_count": 11,
     "metadata": {},
     "output_type": "execute_result"
    }
   ],
   "source": [
    "df.head().style"
   ]
  },
  {
   "cell_type": "code",
   "execution_count": 12,
   "metadata": {},
   "outputs": [
    {
     "data": {
      "text/html": [
       "<style  type=\"text/css\" >\n",
       "</style>  \n",
       "<table id=\"T_9a68503b_4e6b_11e9_a40f_901b0ef16fe5\" > \n",
       "<thead>    <tr> \n",
       "        <th class=\"blank level0\" ></th> \n",
       "        <th class=\"col_heading level0 col0\" >label</th> \n",
       "        <th class=\"col_heading level0 col1\" >text</th> \n",
       "    </tr></thead> \n",
       "<tbody>    <tr> \n",
       "        <th id=\"T_9a68503b_4e6b_11e9_a40f_901b0ef16fe5level0_row0\" class=\"row_heading level0 row0\" >0</th> \n",
       "        <td id=\"T_9a68503b_4e6b_11e9_a40f_901b0ef16fe5row0_col0\" class=\"data row0 col0\" >1</td> \n",
       "        <td id=\"T_9a68503b_4e6b_11e9_a40f_901b0ef16fe5row0_col1\" class=\"data row0 col1\" >\"Please enable removing language code from the Dev Center \"language history\" For example if you ever selected \"ru\" and \"ru-ru\" laguages and you published this xap to the Store then it causes Tile localization to show the en-us(default) tile localization which is bad.\"</td> \n",
       "    </tr>    <tr> \n",
       "        <th id=\"T_9a68503b_4e6b_11e9_a40f_901b0ef16fe5level0_row1\" class=\"row_heading level0 row1\" >1</th> \n",
       "        <td id=\"T_9a68503b_4e6b_11e9_a40f_901b0ef16fe5row1_col0\" class=\"data row1 col0\" >0</td> \n",
       "        <td id=\"T_9a68503b_4e6b_11e9_a40f_901b0ef16fe5row1_col1\" class=\"data row1 col1\" >\"Note: in your .csproj file, there is a SupportedCultures entry like this: <SupportedCultures>de-DE;ru;ru-RU </SupportedCultures> When I removed the \"ru\" language code and published my new xap version, the old xap version still remains in the Store with \"Replaced and unpublished\".\"</td> \n",
       "    </tr>    <tr> \n",
       "        <th id=\"T_9a68503b_4e6b_11e9_a40f_901b0ef16fe5level0_row2\" class=\"row_heading level0 row2\" >2</th> \n",
       "        <td id=\"T_9a68503b_4e6b_11e9_a40f_901b0ef16fe5row2_col0\" class=\"data row2 col0\" >0</td> \n",
       "        <td id=\"T_9a68503b_4e6b_11e9_a40f_901b0ef16fe5row2_col1\" class=\"data row2 col1\" >\"Wich means the new version not fully replaced the old version and this causes me very serious problems: 1.\"</td> \n",
       "    </tr>    <tr> \n",
       "        <th id=\"T_9a68503b_4e6b_11e9_a40f_901b0ef16fe5level0_row3\" class=\"row_heading level0 row3\" >3</th> \n",
       "        <td id=\"T_9a68503b_4e6b_11e9_a40f_901b0ef16fe5row3_col0\" class=\"data row3 col0\" >0</td> \n",
       "        <td id=\"T_9a68503b_4e6b_11e9_a40f_901b0ef16fe5row3_col1\" class=\"data row3 col1\" >\"Some of my users will still receive the old xap version of my app.\"</td> \n",
       "    </tr>    <tr> \n",
       "        <th id=\"T_9a68503b_4e6b_11e9_a40f_901b0ef16fe5level0_row4\" class=\"row_heading level0 row4\" >4</th> \n",
       "        <td id=\"T_9a68503b_4e6b_11e9_a40f_901b0ef16fe5row4_col0\" class=\"data row4 col0\" >0</td> \n",
       "        <td id=\"T_9a68503b_4e6b_11e9_a40f_901b0ef16fe5row4_col1\" class=\"data row4 col1\" >\"The store randomly gives the old xap or the new xap version of my app.\"</td> \n",
       "    </tr></tbody> \n",
       "</table> "
      ],
      "text/plain": [
       "<pandas.io.formats.style.Styler at 0x7f1ba2615b00>"
      ]
     },
     "execution_count": 12,
     "metadata": {},
     "output_type": "execute_result"
    }
   ],
   "source": [
    "df.head().style"
   ]
  },
  {
   "cell_type": "markdown",
   "metadata": {},
   "source": [
    "#### Clearly, the imbalance in the dataset is evident"
   ]
  },
  {
   "cell_type": "code",
   "execution_count": 13,
   "metadata": {},
   "outputs": [
    {
     "data": {
      "text/plain": [
       "0    6414\n",
       "1    2085\n",
       "Name: label, dtype: int64"
      ]
     },
     "execution_count": 13,
     "metadata": {},
     "output_type": "execute_result"
    }
   ],
   "source": [
    "df['label'].value_counts()"
   ]
  },
  {
   "cell_type": "markdown",
   "metadata": {},
   "source": [
    "## ULMFiT Transfer Learning Paper Overview \n",
    "\n",
    "> [Paper Link](https://arxiv.org/abs/1801.06146)\n",
    "> Authors : **Jeremy Howard, Sebastian Ruder**\n",
    "\n",
    "![\n",
    "](https://raw.githubusercontent.com/ritzdevp/MachineLearning/master/arch.png)\n",
    "\n",
    "The model uses AWD-LSTM ([Merity et al., 2017a](https://arxiv.org/abs/1708.02182)) layered architecture coupled with tuned dropout layers. The end point is a softmax dense layer. \n",
    "\n",
    "ULMFiT consists of three stages.\n",
    "\n",
    " 1. The Language Model (LM) is trained on a general domain corpus to capture general features of the language in different layers.\n",
    " 2. The full LM is fine tuned on target task data.\n",
    " 3. The classifier fine tuned on the target task using techniques stated by the authors such as *gradual unfreezing*, *discriminative fine-tuning* and *slanted triangular learning rates*. \n",
    "\n",
    "> In the figure above; shaded: unfreezing stages, black: frozen\n",
    "\n"
   ]
  },
  {
   "cell_type": "markdown",
   "metadata": {},
   "source": [
    "### Let us go for two approaches :\n",
    "#### 1. Train and predict for the dataset as it is.\n",
    "#### 2. Train and predict after downsampling class '0'."
   ]
  },
  {
   "cell_type": "code",
   "execution_count": 14,
   "metadata": {},
   "outputs": [],
   "source": [
    "#Splitting training data into training and validation set\n",
    "\n",
    "valid_pct = 0.05 #validation set size \n",
    "\n",
    "#splitting \n",
    "cut = int(valid_pct * len(df)) + 1\n",
    "train_df, valid_df = df[cut:], df[:cut]\n",
    "\n",
    "#converting data into DataBunch, a data format compatible with fastai.text.data\n",
    "#NOTE : data_lm is for language model learner\n",
    "data_lm = TextLMDataBunch.from_df('data', train_df, valid_df, text_cols='text')"
   ]
  },
  {
   "cell_type": "code",
   "execution_count": 15,
   "metadata": {},
   "outputs": [
    {
     "data": {
      "text/html": [
       "<table>  <col width='5%'>  <col width='95%'>  <tr>\n",
       "    <th>idx</th>\n",
       "    <th>text</th>\n",
       "  </tr>\n",
       "  <tr>\n",
       "    <th>0</th>\n",
       "    <th>xxbos xxmaj it would be great to use xxmaj xxunk to install scripts once into the shared project rather than installing two copies of the same script into the xxmaj windows project and the xxmaj windows xxmaj phone project . xxbos \" xxmaj this tester changed the criteria . \" xxbos \" sending an xxup udp xxmaj broadcast ( send to xxunk ) is not supported . \" xxbos \"</th>\n",
       "  </tr>\n",
       "  <tr>\n",
       "    <th>1</th>\n",
       "    <th>designer problem ; but the attached properties are not working ( the binding ) and i have to do set binding by code xxbos \" i 'd like to have xxmaj feedly automatically detect youtube videos in feeds , and if i save a post with a youtube embed , automatically add that specific video to my ' xxmaj watch xxmaj later ' feed in youtube . \" xxbos \"</th>\n",
       "  </tr>\n",
       "  <tr>\n",
       "    <th>2</th>\n",
       "    <th>to feedly.com or make it possible to download an update from within the extension ? \" xxbos \" please let me know when you will add more payment options . \" xxbos \" xxmaj the new xxmaj notification access is awesome but is it possible to add xxmaj overlay xxup ui and xxmaj services ( you will find it under accessibility settings in xxmaj android ) to xxup xxunk .</th>\n",
       "  </tr>\n",
       "  <tr>\n",
       "    <th>3</th>\n",
       "    <th>post directly to xxmaj kindle or / and other e - book readers . \" xxbos \" i 've noticed that when you create a datapackage containing both data provided directly ( let 's say text using xxunk ) and xxunk formats like a bitmap ( using xxunk ) when closing the application the whole clipboard content is cleared . \" xxbos xxmaj in the xxmaj windows . xxmaj data</th>\n",
       "  </tr>\n",
       "  <tr>\n",
       "    <th>4</th>\n",
       "    <th>existing xxunk types ( i.e. \" xxbos xxmaj the .net core frame work is a xxunk idea , but incorporate ideas that have caused me to avoid linux for the most part . xxbos \" xxmaj in html if you align text to the right , then its size is reduced . \" xxbos xxmaj but the xxup uwp textboxes are not that xxunk when it comes to numeric input</th>\n",
       "  </tr>\n",
       "</table>\n"
      ],
      "text/plain": [
       "<IPython.core.display.HTML object>"
      ]
     },
     "metadata": {},
     "output_type": "display_data"
    }
   ],
   "source": [
    "data_lm.show_batch()"
   ]
  },
  {
   "cell_type": "code",
   "execution_count": 16,
   "metadata": {},
   "outputs": [],
   "source": [
    "# Classifier model data\n",
    "#'bs' = 'batchsize'\n",
    "data_clas = TextClasDataBunch.from_df('data', train_df = train_df, valid_df = valid_df, vocab=data_lm.train_ds.vocab, bs=32)"
   ]
  },
  {
   "cell_type": "code",
   "execution_count": 17,
   "metadata": {},
   "outputs": [
    {
     "data": {
      "text/html": [
       "<table>  <col width='90%'>  <col width='10%'>  <tr>\n",
       "    <th>text</th>\n",
       "    <th>target</th>\n",
       "  </tr>\n",
       "  <tr>\n",
       "    <th>xxbos \" xxmaj thanks , xxmaj an xxmaj xxunk xxrep 16 - xxmaj log of infinite loop on xxmaj buffering : xxmaj state : xxmaj playing xxmaj change position to : xxunk xxrep 4 0 xxmaj state : xxmaj buffering xxmaj buffering : 100.0 % xxmaj state : xxmaj buffering xxmaj state : xxmaj buffering xxmaj buffering : 50.0 % xxmaj buffering : 50.0 % xxmaj buffering : 51.0 %</th>\n",
       "    <th>0</th>\n",
       "  </tr>\n",
       "  <tr>\n",
       "    <th>xxbos \" xxmaj windows phone store should show total number of app downloads ( xxmaj all xxmaj markets ) as well as ratings and reviews of xxmaj all xxmaj markets instead of showing xxunk and reviews based on region because it does n't give a xxunk view and if by chance in any country there are no reviews on your app and someone want to download your app he might</th>\n",
       "    <th>1</th>\n",
       "  </tr>\n",
       "  <tr>\n",
       "    <th>xxbos xxup ms xxmaj edge is not bad however people have different requirements for web browsers . xxmaj the current xxunk are too limited for developers to create a new browser . xxmaj you should give people more freedom and more apis to create new browsers . xxmaj and please do n't always use security risk as xxunk for not allowing people to create more creative apps than xxmaj edge</th>\n",
       "    <th>1</th>\n",
       "  </tr>\n",
       "  <tr>\n",
       "    <th>xxbos \" xxrep 47 _ xxup itin xxrep 12 _ xxup ein xxrep xxunk _ xxrep 9 _ xxup xxunk xxrep 6 _ xxup xxunk xxrep 69 _ xxmaj instructions xxrep 90 _ xxrep 51 _ xxup xxunk xxrep 30 _ xxup ms xxrep xxunk _ xxrep 39 _ xxrep 15 _ xxmaj web xxrep 21 _ xxup ein xxrep 47 _ xxup itin xxrep 39 _ xxrep 41 _</th>\n",
       "    <th>0</th>\n",
       "  </tr>\n",
       "  <tr>\n",
       "    <th>xxbos \" .wma files copied / moved to xxmaj music library using medialibraryextensions . savesong ( ) xxup api from a windows phone app are stored in xxmaj music library with .mp3 extension , though the audio file itself will play properly from xxmaj music library xxmaj when you share it via email - you can notice that file attached has a .mp3 extension xxmaj or connect phone to xxup</th>\n",
       "    <th>0</th>\n",
       "  </tr>\n",
       "</table>\n"
      ],
      "text/plain": [
       "<IPython.core.display.HTML object>"
      ]
     },
     "metadata": {},
     "output_type": "display_data"
    }
   ],
   "source": [
    "data_clas.show_batch()"
   ]
  },
  {
   "cell_type": "markdown",
   "metadata": {},
   "source": [
    "#### Training ULMFiT pretrained model by unfreezing weights of all layers"
   ]
  },
  {
   "cell_type": "code",
   "execution_count": 18,
   "metadata": {},
   "outputs": [
    {
     "data": {
      "text/html": [
       "Total time: 00:06 <p><table style='width:300px; margin-bottom:10px'>\n",
       "  <tr>\n",
       "    <th>epoch</th>\n",
       "    <th>train_loss</th>\n",
       "    <th>valid_loss</th>\n",
       "    <th>accuracy</th>\n",
       "  </tr>\n",
       "  <tr>\n",
       "    <th>1</th>\n",
       "    <th>5.158728</th>\n",
       "    <th>4.664846</th>\n",
       "    <th>0.258914</th>\n",
       "  </tr>\n",
       "</table>\n"
      ],
      "text/plain": [
       "<IPython.core.display.HTML object>"
      ]
     },
     "metadata": {},
     "output_type": "display_data"
    }
   ],
   "source": [
    "#learn is the 'language_model_learner' with dropout layers having \n",
    "#drop_mult is the dropout percentage for dropout layers\n",
    "learn = language_model_learner(data_lm, pretrained_model=URLs.WT103, drop_mult=0.4) \n",
    "#make layers re-trainable\n",
    "learn.unfreeze()\n",
    "learn.fit_one_cycle(1, 1e-3)  # FIT ONE CYCLE POLICY\n",
    "wd=1e-7 #weight decay regularization\n",
    "lr=0.001\n",
    "lrs = lr"
   ]
  },
  {
   "cell_type": "code",
   "execution_count": 19,
   "metadata": {},
   "outputs": [
    {
     "data": {
      "text/plain": [
       "'this product should be used as a basis for be assuming that it'"
      ]
     },
     "execution_count": 19,
     "metadata": {},
     "output_type": "execute_result"
    }
   ],
   "source": [
    "#test language model learner\n",
    "learn.predict(\"this product should\", n_words=10)"
   ]
  },
  {
   "cell_type": "code",
   "execution_count": 20,
   "metadata": {},
   "outputs": [],
   "source": [
    "#save this language model encoder\n",
    "learn.save_encoder('ft_enc1')"
   ]
  },
  {
   "cell_type": "code",
   "execution_count": 21,
   "metadata": {},
   "outputs": [],
   "source": [
    "#load classifier and encoder\n",
    "clf = text_classifier_learner(data_clas, drop_mult=0.4)\n",
    "clf.load_encoder('ft_enc1')"
   ]
  },
  {
   "cell_type": "code",
   "execution_count": 22,
   "metadata": {},
   "outputs": [
    {
     "data": {
      "text/html": [
       "Total time: 00:16 <p><table style='width:300px; margin-bottom:10px'>\n",
       "  <tr>\n",
       "    <th>epoch</th>\n",
       "    <th>train_loss</th>\n",
       "    <th>valid_loss</th>\n",
       "    <th>accuracy</th>\n",
       "  </tr>\n",
       "  <tr>\n",
       "    <th>1</th>\n",
       "    <th>0.435861</th>\n",
       "    <th>0.365275</th>\n",
       "    <th>0.832941</th>\n",
       "  </tr>\n",
       "</table>\n"
      ],
      "text/plain": [
       "<IPython.core.display.HTML object>"
      ]
     },
     "metadata": {},
     "output_type": "display_data"
    },
    {
     "data": {
      "text/html": [
       "Total time: 03:01 <p><table style='width:300px; margin-bottom:10px'>\n",
       "  <tr>\n",
       "    <th>epoch</th>\n",
       "    <th>train_loss</th>\n",
       "    <th>valid_loss</th>\n",
       "    <th>accuracy</th>\n",
       "  </tr>\n",
       "  <tr>\n",
       "    <th>1</th>\n",
       "    <th>0.430285</th>\n",
       "    <th>0.407623</th>\n",
       "    <th>0.783529</th>\n",
       "  </tr>\n",
       "  <tr>\n",
       "    <th>2</th>\n",
       "    <th>0.447232</th>\n",
       "    <th>0.347651</th>\n",
       "    <th>0.830588</th>\n",
       "  </tr>\n",
       "  <tr>\n",
       "    <th>3</th>\n",
       "    <th>0.440356</th>\n",
       "    <th>0.336098</th>\n",
       "    <th>0.830588</th>\n",
       "  </tr>\n",
       "  <tr>\n",
       "    <th>4</th>\n",
       "    <th>0.408999</th>\n",
       "    <th>0.338077</th>\n",
       "    <th>0.825882</th>\n",
       "  </tr>\n",
       "  <tr>\n",
       "    <th>5</th>\n",
       "    <th>0.418153</th>\n",
       "    <th>0.341397</th>\n",
       "    <th>0.830588</th>\n",
       "  </tr>\n",
       "  <tr>\n",
       "    <th>6</th>\n",
       "    <th>0.431059</th>\n",
       "    <th>0.320035</th>\n",
       "    <th>0.851765</th>\n",
       "  </tr>\n",
       "  <tr>\n",
       "    <th>7</th>\n",
       "    <th>0.445743</th>\n",
       "    <th>0.339636</th>\n",
       "    <th>0.832941</th>\n",
       "  </tr>\n",
       "  <tr>\n",
       "    <th>8</th>\n",
       "    <th>0.431257</th>\n",
       "    <th>0.332531</th>\n",
       "    <th>0.840000</th>\n",
       "  </tr>\n",
       "  <tr>\n",
       "    <th>9</th>\n",
       "    <th>0.408301</th>\n",
       "    <th>0.312848</th>\n",
       "    <th>0.849412</th>\n",
       "  </tr>\n",
       "  <tr>\n",
       "    <th>10</th>\n",
       "    <th>0.440342</th>\n",
       "    <th>0.320567</th>\n",
       "    <th>0.844706</th>\n",
       "  </tr>\n",
       "</table>\n"
      ],
      "text/plain": [
       "<IPython.core.display.HTML object>"
      ]
     },
     "metadata": {},
     "output_type": "display_data"
    }
   ],
   "source": [
    "#train classifier for 1+10 epochs\n",
    "clf.fit_one_cycle(1, 1e-3)\n",
    "clf.fit(10,lrs,wd)"
   ]
  },
  {
   "cell_type": "code",
   "execution_count": 23,
   "metadata": {},
   "outputs": [
    {
     "data": {
      "text/plain": [
       "(Category 1, tensor(1), tensor([0.2356, 0.7644]))"
      ]
     },
     "execution_count": 23,
     "metadata": {},
     "output_type": "execute_result"
    }
   ],
   "source": [
    "#let us test our classifier\n",
    "clf.predict(\"I would like to have a feature that connects me to other users.\")"
   ]
  },
  {
   "cell_type": "markdown",
   "metadata": {},
   "source": [
    "#### Testing on unseen data, downloaded originally as \"SubtaskA_Trial_Test_Labeled.csv\""
   ]
  },
  {
   "cell_type": "code",
   "execution_count": 24,
   "metadata": {},
   "outputs": [],
   "source": [
    "#let us try this classifier on an unseen data \n",
    "labeled_data = pd.read_csv('labeled_test_data.csv', encoding = \"ISO-8859-1\")"
   ]
  },
  {
   "cell_type": "code",
   "execution_count": 25,
   "metadata": {},
   "outputs": [
    {
     "name": "stdout",
     "output_type": "stream",
     "text": [
      "        id  sentence\n",
      "label               \n",
      "0      296       296\n",
      "1      296       296\n",
      "\n",
      "data length: 592\n"
     ]
    }
   ],
   "source": [
    "# A very balanced test data indeed\n",
    "print(labeled_data.groupby('label').count())\n",
    "print('\\ndata length:',len(labeled_data))"
   ]
  },
  {
   "cell_type": "code",
   "execution_count": 26,
   "metadata": {},
   "outputs": [
    {
     "data": {
      "text/html": [
       "<div>\n",
       "<style scoped>\n",
       "    .dataframe tbody tr th:only-of-type {\n",
       "        vertical-align: middle;\n",
       "    }\n",
       "\n",
       "    .dataframe tbody tr th {\n",
       "        vertical-align: top;\n",
       "    }\n",
       "\n",
       "    .dataframe thead th {\n",
       "        text-align: right;\n",
       "    }\n",
       "</style>\n",
       "<table border=\"1\" class=\"dataframe\">\n",
       "  <thead>\n",
       "    <tr style=\"text-align: right;\">\n",
       "      <th></th>\n",
       "      <th>id</th>\n",
       "      <th>sentence</th>\n",
       "      <th>label</th>\n",
       "    </tr>\n",
       "  </thead>\n",
       "  <tbody>\n",
       "    <tr>\n",
       "      <th>0</th>\n",
       "      <td>1310_1</td>\n",
       "      <td>I'm not asking Microsoft to Gives permission l...</td>\n",
       "      <td>1</td>\n",
       "    </tr>\n",
       "    <tr>\n",
       "      <th>1</th>\n",
       "      <td>1312_1</td>\n",
       "      <td>somewhere between Android and iPhone.</td>\n",
       "      <td>0</td>\n",
       "    </tr>\n",
       "    <tr>\n",
       "      <th>2</th>\n",
       "      <td>1313_1</td>\n",
       "      <td>And in the Windows Store you can flag the App ...</td>\n",
       "      <td>0</td>\n",
       "    </tr>\n",
       "    <tr>\n",
       "      <th>3</th>\n",
       "      <td>1313_2</td>\n",
       "      <td>Many thanks Sameh Hi, As we know, there is a l...</td>\n",
       "      <td>0</td>\n",
       "    </tr>\n",
       "    <tr>\n",
       "      <th>4</th>\n",
       "      <td>1313_3</td>\n",
       "      <td>The idea is that we can develop a regular app ...</td>\n",
       "      <td>1</td>\n",
       "    </tr>\n",
       "  </tbody>\n",
       "</table>\n",
       "</div>"
      ],
      "text/plain": [
       "       id                                           sentence  label\n",
       "0  1310_1  I'm not asking Microsoft to Gives permission l...      1\n",
       "1  1312_1              somewhere between Android and iPhone.      0\n",
       "2  1313_1  And in the Windows Store you can flag the App ...      0\n",
       "3  1313_2  Many thanks Sameh Hi, As we know, there is a l...      0\n",
       "4  1313_3  The idea is that we can develop a regular app ...      1"
      ]
     },
     "execution_count": 26,
     "metadata": {},
     "output_type": "execute_result"
    }
   ],
   "source": [
    "labeled_data.head()"
   ]
  },
  {
   "cell_type": "code",
   "execution_count": 27,
   "metadata": {},
   "outputs": [],
   "source": [
    "predictions = []"
   ]
  },
  {
   "cell_type": "code",
   "execution_count": 28,
   "metadata": {},
   "outputs": [],
   "source": [
    "#let us classify each sentence\n",
    "for i in range(0,len(labeled_data)):\n",
    "    prediction = clf.predict(labeled_data['sentence'][i])\n",
    "    val = str(prediction[1])[-2:-1] #to get '1' or '0' (as string) from the prediction output which looks like\n",
    "                                    #(Category 1, tensor(1), tensor([0.3325, 0.6675]))    \n",
    "    val = int(val) #convert to int\n",
    "    predictions.append(val) #append result to predictions list"
   ]
  },
  {
   "cell_type": "code",
   "execution_count": 29,
   "metadata": {},
   "outputs": [],
   "source": [
    "#add predictions to our labeled data\n",
    "labeled_data['predictions'] = predictions"
   ]
  },
  {
   "cell_type": "code",
   "execution_count": 30,
   "metadata": {},
   "outputs": [
    {
     "data": {
      "text/html": [
       "<div>\n",
       "<style scoped>\n",
       "    .dataframe tbody tr th:only-of-type {\n",
       "        vertical-align: middle;\n",
       "    }\n",
       "\n",
       "    .dataframe tbody tr th {\n",
       "        vertical-align: top;\n",
       "    }\n",
       "\n",
       "    .dataframe thead th {\n",
       "        text-align: right;\n",
       "    }\n",
       "</style>\n",
       "<table border=\"1\" class=\"dataframe\">\n",
       "  <thead>\n",
       "    <tr style=\"text-align: right;\">\n",
       "      <th></th>\n",
       "      <th>id</th>\n",
       "      <th>sentence</th>\n",
       "      <th>label</th>\n",
       "      <th>predictions</th>\n",
       "    </tr>\n",
       "  </thead>\n",
       "  <tbody>\n",
       "    <tr>\n",
       "      <th>0</th>\n",
       "      <td>1310_1</td>\n",
       "      <td>I'm not asking Microsoft to Gives permission l...</td>\n",
       "      <td>1</td>\n",
       "      <td>0</td>\n",
       "    </tr>\n",
       "    <tr>\n",
       "      <th>1</th>\n",
       "      <td>1312_1</td>\n",
       "      <td>somewhere between Android and iPhone.</td>\n",
       "      <td>0</td>\n",
       "      <td>0</td>\n",
       "    </tr>\n",
       "    <tr>\n",
       "      <th>2</th>\n",
       "      <td>1313_1</td>\n",
       "      <td>And in the Windows Store you can flag the App ...</td>\n",
       "      <td>0</td>\n",
       "      <td>0</td>\n",
       "    </tr>\n",
       "    <tr>\n",
       "      <th>3</th>\n",
       "      <td>1313_2</td>\n",
       "      <td>Many thanks Sameh Hi, As we know, there is a l...</td>\n",
       "      <td>0</td>\n",
       "      <td>0</td>\n",
       "    </tr>\n",
       "    <tr>\n",
       "      <th>4</th>\n",
       "      <td>1313_3</td>\n",
       "      <td>The idea is that we can develop a regular app ...</td>\n",
       "      <td>1</td>\n",
       "      <td>0</td>\n",
       "    </tr>\n",
       "  </tbody>\n",
       "</table>\n",
       "</div>"
      ],
      "text/plain": [
       "       id                                           sentence  label  \\\n",
       "0  1310_1  I'm not asking Microsoft to Gives permission l...      1   \n",
       "1  1312_1              somewhere between Android and iPhone.      0   \n",
       "2  1313_1  And in the Windows Store you can flag the App ...      0   \n",
       "3  1313_2  Many thanks Sameh Hi, As we know, there is a l...      0   \n",
       "4  1313_3  The idea is that we can develop a regular app ...      1   \n",
       "\n",
       "   predictions  \n",
       "0            0  \n",
       "1            0  \n",
       "2            0  \n",
       "3            0  \n",
       "4            0  "
      ]
     },
     "execution_count": 30,
     "metadata": {},
     "output_type": "execute_result"
    }
   ],
   "source": [
    "labeled_data.head()"
   ]
  },
  {
   "cell_type": "markdown",
   "metadata": {},
   "source": [
    "#### Let us check the accuracy and F1 score"
   ]
  },
  {
   "cell_type": "code",
   "execution_count": 31,
   "metadata": {},
   "outputs": [
    {
     "name": "stdout",
     "output_type": "stream",
     "text": [
      "acc:  0.7027\n",
      "F1:   0.6562\n"
     ]
    }
   ],
   "source": [
    "print('acc: ',accuracy_score(labeled_data['label'], labeled_data['predictions']).round(4))\n",
    "print('F1:  ',f1_score(labeled_data['label'], labeled_data['predictions'],average='binary').round(4))"
   ]
  },
  {
   "cell_type": "markdown",
   "metadata": {},
   "source": [
    "\n",
    "\n",
    "\n",
    "\n",
    "\n"
   ]
  },
  {
   "cell_type": "markdown",
   "metadata": {},
   "source": [
    " "
   ]
  },
  {
   "cell_type": "markdown",
   "metadata": {},
   "source": [
    " "
   ]
  },
  {
   "cell_type": "markdown",
   "metadata": {},
   "source": [
    " ### Downsampling the data set"
   ]
  },
  {
   "cell_type": "markdown",
   "metadata": {},
   "source": [
    "#### Let us try the second approach, ie: downsampling 0 class"
   ]
  },
  {
   "cell_type": "code",
   "execution_count": 32,
   "metadata": {},
   "outputs": [],
   "source": [
    "#downsample 0 class\n",
    "#pick row indexes having label = 0\n",
    "zero_label_indexes = df[df['label']==0].index"
   ]
  },
  {
   "cell_type": "code",
   "execution_count": 33,
   "metadata": {},
   "outputs": [
    {
     "data": {
      "text/plain": [
       "Index(['1', '2', '3', '4', '5', '6', '7', '9', '10', '11',\n",
       "       ...\n",
       "       '8489', '8490', '8491', '8492', '8493', '8494', '8495', '8496', '8497',\n",
       "       '8498'],\n",
       "      dtype='object', length=6414)"
      ]
     },
     "execution_count": 33,
     "metadata": {},
     "output_type": "execute_result"
    }
   ],
   "source": [
    "zero_label_indexes"
   ]
  },
  {
   "cell_type": "code",
   "execution_count": 34,
   "metadata": {},
   "outputs": [],
   "source": [
    "np.random.seed(10)\n",
    "\n",
    "remove_n = 4300 #we pick 4300 random rows which are labeled as 0\n",
    "drop_indices = np.random.choice(zero_label_indexes, remove_n, replace=False)"
   ]
  },
  {
   "cell_type": "code",
   "execution_count": 35,
   "metadata": {},
   "outputs": [
    {
     "data": {
      "text/plain": [
       "4300"
      ]
     },
     "execution_count": 35,
     "metadata": {},
     "output_type": "execute_result"
    }
   ],
   "source": [
    "len(drop_indices)"
   ]
  },
  {
   "cell_type": "code",
   "execution_count": 36,
   "metadata": {},
   "outputs": [],
   "source": [
    "df_downsampled = df.drop(drop_indices)"
   ]
  },
  {
   "cell_type": "code",
   "execution_count": 37,
   "metadata": {},
   "outputs": [
    {
     "data": {
      "text/plain": [
       "0    2114\n",
       "1    2085\n",
       "Name: label, dtype: int64"
      ]
     },
     "execution_count": 37,
     "metadata": {},
     "output_type": "execute_result"
    }
   ],
   "source": [
    "#Quite balanced!\n",
    "df_downsampled['label'].value_counts()"
   ]
  },
  {
   "cell_type": "code",
   "execution_count": 38,
   "metadata": {},
   "outputs": [],
   "source": [
    "#Same process of splitting data into validation and training set \n",
    "valid_pct = 0.05 #validation percent\n",
    "cut = int(valid_pct * len(df_downsampled)) + 1\n",
    "train_df_ds, valid_df_ds = df_downsampled[cut:], df_downsampled[:cut] #'ds' = 'downsampled'\n",
    "data_lm_new = TextLMDataBunch.from_df('data', train_df_ds, valid_df_ds, text_cols='text')"
   ]
  },
  {
   "cell_type": "code",
   "execution_count": 39,
   "metadata": {},
   "outputs": [],
   "source": [
    "# new Classifier model data\n",
    "data_clas_new = TextClasDataBunch.from_df('data', train_df = train_df_ds, valid_df = valid_df_ds, vocab=data_lm_new.train_ds.vocab, bs=32)"
   ]
  },
  {
   "cell_type": "code",
   "execution_count": 40,
   "metadata": {},
   "outputs": [
    {
     "data": {
      "text/html": [
       "Total time: 00:03 <p><table style='width:300px; margin-bottom:10px'>\n",
       "  <tr>\n",
       "    <th>epoch</th>\n",
       "    <th>train_loss</th>\n",
       "    <th>valid_loss</th>\n",
       "    <th>accuracy</th>\n",
       "  </tr>\n",
       "  <tr>\n",
       "    <th>1</th>\n",
       "    <th>5.318812</th>\n",
       "    <th>4.636693</th>\n",
       "    <th>0.271763</th>\n",
       "  </tr>\n",
       "</table>\n"
      ],
      "text/plain": [
       "<IPython.core.display.HTML object>"
      ]
     },
     "metadata": {},
     "output_type": "display_data"
    }
   ],
   "source": [
    "#new language model learner based on our downsampled training data\n",
    "learn_new = language_model_learner(data_lm_new, pretrained_model=URLs.WT103, drop_mult=0.4)\n",
    "learn_new.unfreeze()\n",
    "learn_new.fit_one_cycle(1, 1e-3)  \n",
    "wd=1e-7\n",
    "lr=0.001\n",
    "lrs = lr"
   ]
  },
  {
   "cell_type": "code",
   "execution_count": 41,
   "metadata": {},
   "outputs": [
    {
     "data": {
      "text/plain": [
       "'This feature is being changed by the location of the bottom . \"'"
      ]
     },
     "execution_count": 41,
     "metadata": {},
     "output_type": "execute_result"
    }
   ],
   "source": [
    "learn_new.predict('This feature is', n_words=10)"
   ]
  },
  {
   "cell_type": "code",
   "execution_count": 42,
   "metadata": {},
   "outputs": [],
   "source": [
    "#save new encoder\n",
    "learn_new.save_encoder('ft_enc_new')"
   ]
  },
  {
   "cell_type": "code",
   "execution_count": 43,
   "metadata": {},
   "outputs": [],
   "source": [
    "#load classifier\n",
    "clf_new = text_classifier_learner(data_clas_new, drop_mult=0.4)\n",
    "clf_new.load_encoder('ft_enc_new')"
   ]
  },
  {
   "cell_type": "code",
   "execution_count": 44,
   "metadata": {},
   "outputs": [
    {
     "data": {
      "text/html": [
       "Total time: 00:09 <p><table style='width:300px; margin-bottom:10px'>\n",
       "  <tr>\n",
       "    <th>epoch</th>\n",
       "    <th>train_loss</th>\n",
       "    <th>valid_loss</th>\n",
       "    <th>accuracy</th>\n",
       "  </tr>\n",
       "  <tr>\n",
       "    <th>1</th>\n",
       "    <th>0.595074</th>\n",
       "    <th>0.531674</th>\n",
       "    <th>0.757143</th>\n",
       "  </tr>\n",
       "</table>\n"
      ],
      "text/plain": [
       "<IPython.core.display.HTML object>"
      ]
     },
     "metadata": {},
     "output_type": "display_data"
    },
    {
     "data": {
      "text/html": [
       "Total time: 01:31 <p><table style='width:300px; margin-bottom:10px'>\n",
       "  <tr>\n",
       "    <th>epoch</th>\n",
       "    <th>train_loss</th>\n",
       "    <th>valid_loss</th>\n",
       "    <th>accuracy</th>\n",
       "  </tr>\n",
       "  <tr>\n",
       "    <th>1</th>\n",
       "    <th>0.567137</th>\n",
       "    <th>0.510671</th>\n",
       "    <th>0.742857</th>\n",
       "  </tr>\n",
       "  <tr>\n",
       "    <th>2</th>\n",
       "    <th>0.561927</th>\n",
       "    <th>0.495377</th>\n",
       "    <th>0.747619</th>\n",
       "  </tr>\n",
       "  <tr>\n",
       "    <th>3</th>\n",
       "    <th>0.550490</th>\n",
       "    <th>0.486710</th>\n",
       "    <th>0.747619</th>\n",
       "  </tr>\n",
       "  <tr>\n",
       "    <th>4</th>\n",
       "    <th>0.527414</th>\n",
       "    <th>0.538360</th>\n",
       "    <th>0.738095</th>\n",
       "  </tr>\n",
       "  <tr>\n",
       "    <th>5</th>\n",
       "    <th>0.541849</th>\n",
       "    <th>0.503917</th>\n",
       "    <th>0.757143</th>\n",
       "  </tr>\n",
       "  <tr>\n",
       "    <th>6</th>\n",
       "    <th>0.527251</th>\n",
       "    <th>0.499117</th>\n",
       "    <th>0.761905</th>\n",
       "  </tr>\n",
       "  <tr>\n",
       "    <th>7</th>\n",
       "    <th>0.519581</th>\n",
       "    <th>0.482363</th>\n",
       "    <th>0.761905</th>\n",
       "  </tr>\n",
       "  <tr>\n",
       "    <th>8</th>\n",
       "    <th>0.515662</th>\n",
       "    <th>0.483087</th>\n",
       "    <th>0.761905</th>\n",
       "  </tr>\n",
       "  <tr>\n",
       "    <th>9</th>\n",
       "    <th>0.489052</th>\n",
       "    <th>0.518943</th>\n",
       "    <th>0.761905</th>\n",
       "  </tr>\n",
       "  <tr>\n",
       "    <th>10</th>\n",
       "    <th>0.516822</th>\n",
       "    <th>0.452856</th>\n",
       "    <th>0.776190</th>\n",
       "  </tr>\n",
       "</table>\n"
      ],
      "text/plain": [
       "<IPython.core.display.HTML object>"
      ]
     },
     "metadata": {},
     "output_type": "display_data"
    }
   ],
   "source": [
    "#train classifier for 1 + 10 epochs\n",
    "clf_new.fit_one_cycle(1, 1e-3)\n",
    "clf_new.fit(10,lrs,wd)"
   ]
  },
  {
   "cell_type": "code",
   "execution_count": 45,
   "metadata": {},
   "outputs": [
    {
     "data": {
      "text/plain": [
       "(Category 1, tensor(1), tensor([0.0278, 0.9722]))"
      ]
     },
     "execution_count": 45,
     "metadata": {},
     "output_type": "execute_result"
    }
   ],
   "source": [
    "#let us try the classifier\n",
    "clf_new.predict(\"It would be nice to have this feature incorporated soon.\")"
   ]
  },
  {
   "cell_type": "markdown",
   "metadata": {},
   "source": [
    "#### Let us try to predict on our unseen data"
   ]
  },
  {
   "cell_type": "code",
   "execution_count": 46,
   "metadata": {},
   "outputs": [],
   "source": [
    "new_predictions = []"
   ]
  },
  {
   "cell_type": "code",
   "execution_count": 47,
   "metadata": {},
   "outputs": [],
   "source": [
    "for i in range(0,len(labeled_data)):\n",
    "    prediction = clf_new.predict(labeled_data['sentence'][i])\n",
    "    val = str(prediction[1])[-2:-1]\n",
    "    val = int(val)\n",
    "    new_predictions.append(val)"
   ]
  },
  {
   "cell_type": "code",
   "execution_count": 48,
   "metadata": {},
   "outputs": [],
   "source": [
    "labeled_data['new_predictions'] = new_predictions"
   ]
  },
  {
   "cell_type": "code",
   "execution_count": 49,
   "metadata": {},
   "outputs": [
    {
     "data": {
      "text/html": [
       "<div>\n",
       "<style scoped>\n",
       "    .dataframe tbody tr th:only-of-type {\n",
       "        vertical-align: middle;\n",
       "    }\n",
       "\n",
       "    .dataframe tbody tr th {\n",
       "        vertical-align: top;\n",
       "    }\n",
       "\n",
       "    .dataframe thead th {\n",
       "        text-align: right;\n",
       "    }\n",
       "</style>\n",
       "<table border=\"1\" class=\"dataframe\">\n",
       "  <thead>\n",
       "    <tr style=\"text-align: right;\">\n",
       "      <th></th>\n",
       "      <th>id</th>\n",
       "      <th>sentence</th>\n",
       "      <th>label</th>\n",
       "      <th>predictions</th>\n",
       "      <th>new_predictions</th>\n",
       "    </tr>\n",
       "  </thead>\n",
       "  <tbody>\n",
       "    <tr>\n",
       "      <th>0</th>\n",
       "      <td>1310_1</td>\n",
       "      <td>I'm not asking Microsoft to Gives permission l...</td>\n",
       "      <td>1</td>\n",
       "      <td>0</td>\n",
       "      <td>1</td>\n",
       "    </tr>\n",
       "    <tr>\n",
       "      <th>1</th>\n",
       "      <td>1312_1</td>\n",
       "      <td>somewhere between Android and iPhone.</td>\n",
       "      <td>0</td>\n",
       "      <td>0</td>\n",
       "      <td>1</td>\n",
       "    </tr>\n",
       "    <tr>\n",
       "      <th>2</th>\n",
       "      <td>1313_1</td>\n",
       "      <td>And in the Windows Store you can flag the App ...</td>\n",
       "      <td>0</td>\n",
       "      <td>0</td>\n",
       "      <td>1</td>\n",
       "    </tr>\n",
       "    <tr>\n",
       "      <th>3</th>\n",
       "      <td>1313_2</td>\n",
       "      <td>Many thanks Sameh Hi, As we know, there is a l...</td>\n",
       "      <td>0</td>\n",
       "      <td>0</td>\n",
       "      <td>1</td>\n",
       "    </tr>\n",
       "    <tr>\n",
       "      <th>4</th>\n",
       "      <td>1313_3</td>\n",
       "      <td>The idea is that we can develop a regular app ...</td>\n",
       "      <td>1</td>\n",
       "      <td>0</td>\n",
       "      <td>0</td>\n",
       "    </tr>\n",
       "  </tbody>\n",
       "</table>\n",
       "</div>"
      ],
      "text/plain": [
       "       id                                           sentence  label  \\\n",
       "0  1310_1  I'm not asking Microsoft to Gives permission l...      1   \n",
       "1  1312_1              somewhere between Android and iPhone.      0   \n",
       "2  1313_1  And in the Windows Store you can flag the App ...      0   \n",
       "3  1313_2  Many thanks Sameh Hi, As we know, there is a l...      0   \n",
       "4  1313_3  The idea is that we can develop a regular app ...      1   \n",
       "\n",
       "   predictions  new_predictions  \n",
       "0            0                1  \n",
       "1            0                1  \n",
       "2            0                1  \n",
       "3            0                1  \n",
       "4            0                0  "
      ]
     },
     "execution_count": 49,
     "metadata": {},
     "output_type": "execute_result"
    }
   ],
   "source": [
    "labeled_data.head()"
   ]
  },
  {
   "cell_type": "code",
   "execution_count": 50,
   "metadata": {},
   "outputs": [
    {
     "name": "stdout",
     "output_type": "stream",
     "text": [
      "acc:  0.7077702702702703\n",
      "F1:  0.7358778625954198\n"
     ]
    }
   ],
   "source": [
    "print('acc: ',accuracy_score(labeled_data['label'], labeled_data['new_predictions']))\n",
    "print('F1: ', f1_score(labeled_data['label'], labeled_data['new_predictions'],average='binary'))"
   ]
  },
  {
   "cell_type": "markdown",
   "metadata": {},
   "source": [
    "### Let us compare"
   ]
  },
  {
   "cell_type": "code",
   "execution_count": 51,
   "metadata": {},
   "outputs": [
    {
     "name": "stdout",
     "output_type": "stream",
     "text": [
      "acc: 0.7027\n",
      "F1:  0.6562\n",
      "\n",
      "After downsampling...\n",
      "\n",
      "acc: 0.7078\n",
      "F1:  0.7359\n"
     ]
    }
   ],
   "source": [
    "print('acc:',accuracy_score(labeled_data['label'], labeled_data['predictions']).round(4))\n",
    "print('F1: ', f1_score(labeled_data['label'], labeled_data['predictions'],average='binary').round(4))\n",
    "print('\\nAfter downsampling...')\n",
    "print('\\nacc:',accuracy_score(labeled_data['label'], labeled_data['new_predictions']).round(4))\n",
    "print('F1: ', f1_score(labeled_data['label'], labeled_data['new_predictions'],average='binary').round(4))"
   ]
  },
  {
   "cell_type": "markdown",
   "metadata": {},
   "source": [
    "### Let us generate our submission csv file\n",
    "#### Unlabeled test data was originally downloaded as \"SubtaskA_EvaluationData.csv\""
   ]
  },
  {
   "cell_type": "code",
   "execution_count": 52,
   "metadata": {},
   "outputs": [
    {
     "data": {
      "text/html": [
       "<div>\n",
       "<style scoped>\n",
       "    .dataframe tbody tr th:only-of-type {\n",
       "        vertical-align: middle;\n",
       "    }\n",
       "\n",
       "    .dataframe tbody tr th {\n",
       "        vertical-align: top;\n",
       "    }\n",
       "\n",
       "    .dataframe thead th {\n",
       "        text-align: right;\n",
       "    }\n",
       "</style>\n",
       "<table border=\"1\" class=\"dataframe\">\n",
       "  <thead>\n",
       "    <tr style=\"text-align: right;\">\n",
       "      <th></th>\n",
       "      <th>id</th>\n",
       "      <th>text</th>\n",
       "      <th>prediction</th>\n",
       "    </tr>\n",
       "  </thead>\n",
       "  <tbody>\n",
       "    <tr>\n",
       "      <th>0</th>\n",
       "      <td>9566</td>\n",
       "      <td>This would enable live traffic aware apps.</td>\n",
       "      <td>X</td>\n",
       "    </tr>\n",
       "    <tr>\n",
       "      <th>1</th>\n",
       "      <td>9569</td>\n",
       "      <td>Please try other formatting like bold italics ...</td>\n",
       "      <td>X</td>\n",
       "    </tr>\n",
       "    <tr>\n",
       "      <th>2</th>\n",
       "      <td>9576</td>\n",
       "      <td>Since computers were invented to save time I s...</td>\n",
       "      <td>X</td>\n",
       "    </tr>\n",
       "    <tr>\n",
       "      <th>3</th>\n",
       "      <td>9577</td>\n",
       "      <td>Allow rearranging if the user wants to change ...</td>\n",
       "      <td>X</td>\n",
       "    </tr>\n",
       "    <tr>\n",
       "      <th>4</th>\n",
       "      <td>9579</td>\n",
       "      <td>Add SIMD instructions for better use of ARM NE...</td>\n",
       "      <td>X</td>\n",
       "    </tr>\n",
       "  </tbody>\n",
       "</table>\n",
       "</div>"
      ],
      "text/plain": [
       "     id                                               text prediction\n",
       "0  9566         This would enable live traffic aware apps.          X\n",
       "1  9569  Please try other formatting like bold italics ...          X\n",
       "2  9576  Since computers were invented to save time I s...          X\n",
       "3  9577  Allow rearranging if the user wants to change ...          X\n",
       "4  9579  Add SIMD instructions for better use of ARM NE...          X"
      ]
     },
     "execution_count": 52,
     "metadata": {},
     "output_type": "execute_result"
    }
   ],
   "source": [
    "#load test data\n",
    "test_data = pd.read_csv('test_data_nlp.csv')\n",
    "test_data.head()"
   ]
  },
  {
   "cell_type": "code",
   "execution_count": 53,
   "metadata": {},
   "outputs": [],
   "source": [
    "#drop predictions column\n",
    "test_data = test_data.drop(['prediction'],axis=1)"
   ]
  },
  {
   "cell_type": "code",
   "execution_count": 54,
   "metadata": {},
   "outputs": [],
   "source": [
    "final_predictions=[]"
   ]
  },
  {
   "cell_type": "code",
   "execution_count": 55,
   "metadata": {},
   "outputs": [],
   "source": [
    "for i in range(0,len(test_data)):\n",
    "    prediction = clf_new.predict(test_data['text'][i])\n",
    "    val = str(prediction[1])[-2:-1]\n",
    "    val = int(val)\n",
    "    final_predictions.append(val)"
   ]
  },
  {
   "cell_type": "code",
   "execution_count": 56,
   "metadata": {},
   "outputs": [],
   "source": [
    "test_data['prediction'] = final_predictions"
   ]
  },
  {
   "cell_type": "code",
   "execution_count": 57,
   "metadata": {},
   "outputs": [],
   "source": [
    "test_data.to_csv('Rituraj_Singh.csv', header=False, index=False)"
   ]
  },
  {
   "cell_type": "markdown",
   "metadata": {},
   "source": [
    "### And finally,"
   ]
  },
  {
   "cell_type": "code",
   "execution_count": 60,
   "metadata": {},
   "outputs": [
    {
     "name": "stdout",
     "output_type": "stream",
     "text": [
      "(Category 1, tensor(1), tensor([0.3356, 0.6644]))\n",
      "(Category 1, tensor(1), tensor([0.4229, 0.5771]))\n"
     ]
    }
   ],
   "source": [
    "print(clf.predict(\"MIDAS should hire me as a research intern!\"))\n",
    "print(clf_new.predict(\"MIDAS should hire me as a research intern!\")) \n",
    "#The first classifier seems to have a stronger opinion :D"
   ]
  }
 ],
 "metadata": {
  "kernelspec": {
   "display_name": "Python 3",
   "language": "python",
   "name": "python3"
  },
  "language_info": {
   "codemirror_mode": {
    "name": "ipython",
    "version": 3
   },
   "file_extension": ".py",
   "mimetype": "text/x-python",
   "name": "python",
   "nbconvert_exporter": "python",
   "pygments_lexer": "ipython3",
   "version": "3.6.5"
  }
 },
 "nbformat": 4,
 "nbformat_minor": 2
}
