{
 "cells": [
  {
   "cell_type": "markdown",
   "metadata": {},
   "source": [
    "# Suggestion Classification Using ULMFiT Transfer Learning Approach\n",
    "### Let us see if this classifies \"MIDAS should hire me as a research intern!\" as a suggestion!"
   ]
  },
  {
   "cell_type": "code",
   "execution_count": 70,
   "metadata": {},
   "outputs": [],
   "source": [
    "#Import libraries\n",
    "\n",
    "import pandas as pd\n",
    "import numpy as np\n",
    "from sklearn.feature_extraction.text import CountVectorizer\n",
    "from keras.preprocessing.text import text_to_word_sequence\n",
    "from nltk.tokenize import word_tokenize, WhitespaceTokenizer, TweetTokenizer, sent_tokenize\n",
    "import time\n",
    "import nltk\n",
    "from fastai import *\n",
    "from fastai.text import *\n",
    "#import requirements\n",
    "import string\n",
    "import tensorflow as tf\n",
    "from time import time\n",
    "from datetime import datetime\n",
    "import os\n",
    "import time\n",
    "import re\n",
    "from sklearn.metrics import accuracy_score, f1_score"
   ]
  },
  {
   "cell_type": "markdown",
   "metadata": {},
   "source": [
    "#### Stop-words are NOT removed as words like \"should\", \"could\", etc. are key suggestion indicators"
   ]
  },
  {
   "cell_type": "code",
   "execution_count": 2,
   "metadata": {},
   "outputs": [],
   "source": [
    "#import nltk.data\n",
    "#sent_tokenizer = nltk.data.load('tokenizers/punkt/english.pickle')"
   ]
  },
  {
   "cell_type": "code",
   "execution_count": 3,
   "metadata": {},
   "outputs": [],
   "source": [
    "#nltk.download('stopwords')\n",
    "#from nltk.corpus import stopwords \n",
    "#stop_words = stopwords.words('english')"
   ]
  },
  {
   "cell_type": "code",
   "execution_count": 4,
   "metadata": {},
   "outputs": [],
   "source": [
    "#stop_words #STOP WORDS SHOULD NOT BE REMOVED IN THIS PROBLEM. WHY? For exapmple, 'should' is an important word \n",
    "            #which indicates \"suggestion\""
   ]
  },
  {
   "cell_type": "markdown",
   "metadata": {},
   "source": [
    "#### Load and Explore Training Data, downloaded originally as \"V1.4_Training.csv\""
   ]
  },
  {
   "cell_type": "code",
   "execution_count": 5,
   "metadata": {},
   "outputs": [],
   "source": [
    "df = pd.read_csv('suggestion_training_data.csv').iloc[:,:3]"
   ]
  },
  {
   "cell_type": "code",
   "execution_count": 6,
   "metadata": {},
   "outputs": [
    {
     "data": {
      "text/html": [
       "<div>\n",
       "<style scoped>\n",
       "    .dataframe tbody tr th:only-of-type {\n",
       "        vertical-align: middle;\n",
       "    }\n",
       "\n",
       "    .dataframe tbody tr th {\n",
       "        vertical-align: top;\n",
       "    }\n",
       "\n",
       "    .dataframe thead th {\n",
       "        text-align: right;\n",
       "    }\n",
       "</style>\n",
       "<table border=\"1\" class=\"dataframe\">\n",
       "  <thead>\n",
       "    <tr style=\"text-align: right;\">\n",
       "      <th></th>\n",
       "      <th>id</th>\n",
       "      <th>suggestion</th>\n",
       "      <th>text</th>\n",
       "    </tr>\n",
       "  </thead>\n",
       "  <tbody>\n",
       "    <tr>\n",
       "      <th>0</th>\n",
       "      <td>663_3</td>\n",
       "      <td>1</td>\n",
       "      <td>\"Please enable removing language code from the...</td>\n",
       "    </tr>\n",
       "    <tr>\n",
       "      <th>1</th>\n",
       "      <td>663_4</td>\n",
       "      <td>0</td>\n",
       "      <td>\"Note: in your .csproj file, there is a Suppor...</td>\n",
       "    </tr>\n",
       "    <tr>\n",
       "      <th>2</th>\n",
       "      <td>664_1</td>\n",
       "      <td>0</td>\n",
       "      <td>\"Wich means the new version not fully replaced...</td>\n",
       "    </tr>\n",
       "    <tr>\n",
       "      <th>3</th>\n",
       "      <td>664_2</td>\n",
       "      <td>0</td>\n",
       "      <td>\"Some of my users will still receive the old x...</td>\n",
       "    </tr>\n",
       "    <tr>\n",
       "      <th>4</th>\n",
       "      <td>664_3</td>\n",
       "      <td>0</td>\n",
       "      <td>\"The store randomly gives the old xap or the n...</td>\n",
       "    </tr>\n",
       "  </tbody>\n",
       "</table>\n",
       "</div>"
      ],
      "text/plain": [
       "      id  suggestion                                               text\n",
       "0  663_3           1  \"Please enable removing language code from the...\n",
       "1  663_4           0  \"Note: in your .csproj file, there is a Suppor...\n",
       "2  664_1           0  \"Wich means the new version not fully replaced...\n",
       "3  664_2           0  \"Some of my users will still receive the old x...\n",
       "4  664_3           0  \"The store randomly gives the old xap or the n..."
      ]
     },
     "execution_count": 6,
     "metadata": {},
     "output_type": "execute_result"
    }
   ],
   "source": [
    "df.head()"
   ]
  },
  {
   "cell_type": "code",
   "execution_count": 7,
   "metadata": {},
   "outputs": [
    {
     "data": {
      "text/plain": [
       "8499"
      ]
     },
     "execution_count": 7,
     "metadata": {},
     "output_type": "execute_result"
    }
   ],
   "source": [
    "len(df)"
   ]
  },
  {
   "cell_type": "code",
   "execution_count": 8,
   "metadata": {},
   "outputs": [],
   "source": [
    "df = df.dropna()"
   ]
  },
  {
   "cell_type": "code",
   "execution_count": 9,
   "metadata": {},
   "outputs": [
    {
     "data": {
      "text/plain": [
       "8499"
      ]
     },
     "execution_count": 9,
     "metadata": {},
     "output_type": "execute_result"
    }
   ],
   "source": [
    "#data has no nan rows\n",
    "len(df)"
   ]
  },
  {
   "cell_type": "code",
   "execution_count": 10,
   "metadata": {},
   "outputs": [],
   "source": [
    "df = df.drop(['id'],axis=1)\n",
    "df = df.rename(index=str, columns={\"suggestion\": \"label\"})"
   ]
  },
  {
   "cell_type": "code",
   "execution_count": 11,
   "metadata": {},
   "outputs": [
    {
     "data": {
      "text/html": [
       "<style  type=\"text/css\" >\n",
       "</style>  \n",
       "<table id=\"T_d99fbdcc_4d5a_11e9_a40f_901b0ef16fe5\" > \n",
       "<thead>    <tr> \n",
       "        <th class=\"blank level0\" ></th> \n",
       "        <th class=\"col_heading level0 col0\" >label</th> \n",
       "        <th class=\"col_heading level0 col1\" >text</th> \n",
       "    </tr></thead> \n",
       "<tbody>    <tr> \n",
       "        <th id=\"T_d99fbdcc_4d5a_11e9_a40f_901b0ef16fe5level0_row0\" class=\"row_heading level0 row0\" >0</th> \n",
       "        <td id=\"T_d99fbdcc_4d5a_11e9_a40f_901b0ef16fe5row0_col0\" class=\"data row0 col0\" >1</td> \n",
       "        <td id=\"T_d99fbdcc_4d5a_11e9_a40f_901b0ef16fe5row0_col1\" class=\"data row0 col1\" >\"Please enable removing language code from the Dev Center \"language history\" For example if you ever selected \"ru\" and \"ru-ru\" laguages and you published this xap to the Store then it causes Tile localization to show the en-us(default) tile localization which is bad.\"</td> \n",
       "    </tr>    <tr> \n",
       "        <th id=\"T_d99fbdcc_4d5a_11e9_a40f_901b0ef16fe5level0_row1\" class=\"row_heading level0 row1\" >1</th> \n",
       "        <td id=\"T_d99fbdcc_4d5a_11e9_a40f_901b0ef16fe5row1_col0\" class=\"data row1 col0\" >0</td> \n",
       "        <td id=\"T_d99fbdcc_4d5a_11e9_a40f_901b0ef16fe5row1_col1\" class=\"data row1 col1\" >\"Note: in your .csproj file, there is a SupportedCultures entry like this: <SupportedCultures>de-DE;ru;ru-RU </SupportedCultures> When I removed the \"ru\" language code and published my new xap version, the old xap version still remains in the Store with \"Replaced and unpublished\".\"</td> \n",
       "    </tr>    <tr> \n",
       "        <th id=\"T_d99fbdcc_4d5a_11e9_a40f_901b0ef16fe5level0_row2\" class=\"row_heading level0 row2\" >2</th> \n",
       "        <td id=\"T_d99fbdcc_4d5a_11e9_a40f_901b0ef16fe5row2_col0\" class=\"data row2 col0\" >0</td> \n",
       "        <td id=\"T_d99fbdcc_4d5a_11e9_a40f_901b0ef16fe5row2_col1\" class=\"data row2 col1\" >\"Wich means the new version not fully replaced the old version and this causes me very serious problems: 1.\"</td> \n",
       "    </tr>    <tr> \n",
       "        <th id=\"T_d99fbdcc_4d5a_11e9_a40f_901b0ef16fe5level0_row3\" class=\"row_heading level0 row3\" >3</th> \n",
       "        <td id=\"T_d99fbdcc_4d5a_11e9_a40f_901b0ef16fe5row3_col0\" class=\"data row3 col0\" >0</td> \n",
       "        <td id=\"T_d99fbdcc_4d5a_11e9_a40f_901b0ef16fe5row3_col1\" class=\"data row3 col1\" >\"Some of my users will still receive the old xap version of my app.\"</td> \n",
       "    </tr>    <tr> \n",
       "        <th id=\"T_d99fbdcc_4d5a_11e9_a40f_901b0ef16fe5level0_row4\" class=\"row_heading level0 row4\" >4</th> \n",
       "        <td id=\"T_d99fbdcc_4d5a_11e9_a40f_901b0ef16fe5row4_col0\" class=\"data row4 col0\" >0</td> \n",
       "        <td id=\"T_d99fbdcc_4d5a_11e9_a40f_901b0ef16fe5row4_col1\" class=\"data row4 col1\" >\"The store randomly gives the old xap or the new xap version of my app.\"</td> \n",
       "    </tr></tbody> \n",
       "</table> "
      ],
      "text/plain": [
       "<pandas.io.formats.style.Styler at 0x7f3250991a90>"
      ]
     },
     "execution_count": 11,
     "metadata": {},
     "output_type": "execute_result"
    }
   ],
   "source": [
    "df.head().style"
   ]
  },
  {
   "cell_type": "code",
   "execution_count": 12,
   "metadata": {},
   "outputs": [
    {
     "data": {
      "text/html": [
       "<style  type=\"text/css\" >\n",
       "</style>  \n",
       "<table id=\"T_d99fbdcd_4d5a_11e9_a40f_901b0ef16fe5\" > \n",
       "<thead>    <tr> \n",
       "        <th class=\"blank level0\" ></th> \n",
       "        <th class=\"col_heading level0 col0\" >label</th> \n",
       "        <th class=\"col_heading level0 col1\" >text</th> \n",
       "    </tr></thead> \n",
       "<tbody>    <tr> \n",
       "        <th id=\"T_d99fbdcd_4d5a_11e9_a40f_901b0ef16fe5level0_row0\" class=\"row_heading level0 row0\" >0</th> \n",
       "        <td id=\"T_d99fbdcd_4d5a_11e9_a40f_901b0ef16fe5row0_col0\" class=\"data row0 col0\" >1</td> \n",
       "        <td id=\"T_d99fbdcd_4d5a_11e9_a40f_901b0ef16fe5row0_col1\" class=\"data row0 col1\" >\"Please enable removing language code from the Dev Center \"language history\" For example if you ever selected \"ru\" and \"ru-ru\" laguages and you published this xap to the Store then it causes Tile localization to show the en-us(default) tile localization which is bad.\"</td> \n",
       "    </tr>    <tr> \n",
       "        <th id=\"T_d99fbdcd_4d5a_11e9_a40f_901b0ef16fe5level0_row1\" class=\"row_heading level0 row1\" >1</th> \n",
       "        <td id=\"T_d99fbdcd_4d5a_11e9_a40f_901b0ef16fe5row1_col0\" class=\"data row1 col0\" >0</td> \n",
       "        <td id=\"T_d99fbdcd_4d5a_11e9_a40f_901b0ef16fe5row1_col1\" class=\"data row1 col1\" >\"Note: in your .csproj file, there is a SupportedCultures entry like this: <SupportedCultures>de-DE;ru;ru-RU </SupportedCultures> When I removed the \"ru\" language code and published my new xap version, the old xap version still remains in the Store with \"Replaced and unpublished\".\"</td> \n",
       "    </tr>    <tr> \n",
       "        <th id=\"T_d99fbdcd_4d5a_11e9_a40f_901b0ef16fe5level0_row2\" class=\"row_heading level0 row2\" >2</th> \n",
       "        <td id=\"T_d99fbdcd_4d5a_11e9_a40f_901b0ef16fe5row2_col0\" class=\"data row2 col0\" >0</td> \n",
       "        <td id=\"T_d99fbdcd_4d5a_11e9_a40f_901b0ef16fe5row2_col1\" class=\"data row2 col1\" >\"Wich means the new version not fully replaced the old version and this causes me very serious problems: 1.\"</td> \n",
       "    </tr>    <tr> \n",
       "        <th id=\"T_d99fbdcd_4d5a_11e9_a40f_901b0ef16fe5level0_row3\" class=\"row_heading level0 row3\" >3</th> \n",
       "        <td id=\"T_d99fbdcd_4d5a_11e9_a40f_901b0ef16fe5row3_col0\" class=\"data row3 col0\" >0</td> \n",
       "        <td id=\"T_d99fbdcd_4d5a_11e9_a40f_901b0ef16fe5row3_col1\" class=\"data row3 col1\" >\"Some of my users will still receive the old xap version of my app.\"</td> \n",
       "    </tr>    <tr> \n",
       "        <th id=\"T_d99fbdcd_4d5a_11e9_a40f_901b0ef16fe5level0_row4\" class=\"row_heading level0 row4\" >4</th> \n",
       "        <td id=\"T_d99fbdcd_4d5a_11e9_a40f_901b0ef16fe5row4_col0\" class=\"data row4 col0\" >0</td> \n",
       "        <td id=\"T_d99fbdcd_4d5a_11e9_a40f_901b0ef16fe5row4_col1\" class=\"data row4 col1\" >\"The store randomly gives the old xap or the new xap version of my app.\"</td> \n",
       "    </tr></tbody> \n",
       "</table> "
      ],
      "text/plain": [
       "<pandas.io.formats.style.Styler at 0x7f32509325c0>"
      ]
     },
     "execution_count": 12,
     "metadata": {},
     "output_type": "execute_result"
    }
   ],
   "source": [
    "df.head().style"
   ]
  },
  {
   "cell_type": "markdown",
   "metadata": {},
   "source": [
    "#### Clearly, the imbalance in the dataset is evident"
   ]
  },
  {
   "cell_type": "code",
   "execution_count": 13,
   "metadata": {},
   "outputs": [
    {
     "data": {
      "text/plain": [
       "0    6414\n",
       "1    2085\n",
       "Name: label, dtype: int64"
      ]
     },
     "execution_count": 13,
     "metadata": {},
     "output_type": "execute_result"
    }
   ],
   "source": [
    "df['label'].value_counts()"
   ]
  },
  {
   "cell_type": "markdown",
   "metadata": {},
   "source": [
    "## ULMFiT Transfer Learning Paper Overview \n",
    "\n",
    "> [Paper Link](https://arxiv.org/abs/1801.06146)\n",
    "> Authors : **Jeremy Howard, Sebastian Ruder**\n",
    "\n",
    "![\n",
    "](https://raw.githubusercontent.com/ritzdevp/MachineLearning/master/arch.png)\n",
    "\n",
    "The model uses AWD-LSTM ([Merity et al., 2017a](https://arxiv.org/abs/1708.02182)) layered architecture coupled with tuned dropout layers. The end point is a softmax dense layer. \n",
    "\n",
    "ULMFiT consists of three stages.\n",
    "\n",
    " 1. The Language Model (LM) is trained on a general domain corpus to capture general features of the language in different layers.\n",
    " 2. The full LM is fine tuned on target task data.\n",
    " 3. The classifier fine tuned on the target task using techniques stated by the authors such as *gradual unfreezing*, *discriminative fine-tuning* and *slanted triangular learning rates*. \n",
    "\n",
    "> In the figure above; shaded: unfreezing stages, black: frozen\n",
    "\n"
   ]
  },
  {
   "cell_type": "markdown",
   "metadata": {},
   "source": [
    "### Let us go for two approaches :\n",
    "#### 1. Train and predict for the dataset as it is.\n",
    "#### 2. Train and predict after downsampling class '0'."
   ]
  },
  {
   "cell_type": "code",
   "execution_count": 14,
   "metadata": {},
   "outputs": [],
   "source": [
    "#Splitting training data into training and validation set\n",
    "\n",
    "valid_pct = 0.05 #validation set size \n",
    "\n",
    "#splitting \n",
    "cut = int(valid_pct * len(df)) + 1\n",
    "train_df, valid_df = df[cut:], df[:cut]\n",
    "\n",
    "#converting data into DataBunch, a data format compatible with fastai.text.data\n",
    "#NOTE : data_lm is for language model learner\n",
    "data_lm = TextLMDataBunch.from_df('data', train_df, valid_df, text_cols='text')"
   ]
  },
  {
   "cell_type": "code",
   "execution_count": 15,
   "metadata": {},
   "outputs": [
    {
     "data": {
      "text/html": [
       "<table>  <col width='5%'>  <col width='95%'>  <tr>\n",
       "    <th>idx</th>\n",
       "    <th>text</th>\n",
       "  </tr>\n",
       "  <tr>\n",
       "    <th>0</th>\n",
       "    <th>xxbos \" xxmaj this capability was essential for certain low - level tasks like native crash investigation , debugging stack xxunk scenarios , deep optimization with inline assembly ( e. g. for xxup xxunk ) and such . \" xxbos \" xxmaj add integration with xxmaj xxunk \" xxbos \" xxmaj default tags would also be helpful -- even better , configurable content keyword xxunk would be great ! \"</th>\n",
       "  </tr>\n",
       "  <tr>\n",
       "    <th>1</th>\n",
       "    <th>and xxmaj silverlight but do n't realize it right away , and end up frustrating myself until i do . i see no reason to have 3 variations that are so similar , especially with the current efforts to make things universal . xxbos \" xxmaj the \" trial \" is a fantastic concept , but it is xxunk by this xxunk \" xxbos \" xxmaj consider the following situation</th>\n",
       "  </tr>\n",
       "  <tr>\n",
       "    <th>2</th>\n",
       "    <th>\" xxbos \" xxmaj hyper - v is a powerful xxup vm management tool , and it includes the ability to create new images and manage snapshots within them , allowing developers to save the current state of the xxup vm ( e.g. , to manage particular testing scenarios such as upgrading the app when a good amount of custom data is in it , either for one app or</th>\n",
       "  </tr>\n",
       "  <tr>\n",
       "    <th>3</th>\n",
       "    <th>script > < ! \" xxbos \" xxmaj seriously to be xxunk we xxup lose a lot of features with transition of xxup wpf - > xxup uwp ... xxunk xxmaj xxunk etc ... \" xxbos \" xxmaj or at least make the browser extension useful ( xxmaj firefox add - on has no use ... ) \" \" xxbos \" xxmaj one can read more here : http :</th>\n",
       "  </tr>\n",
       "  <tr>\n",
       "    <th>4</th>\n",
       "    <th>adding a new item \" ) . \" xxbos \" xxmaj possible solution : xxmaj route class xxunk xxunk . \" xxbos i suggest to create another option that xxunk \" \" lost of signal \" \" and \" \" bad signal \" \" . xxmaj create an infinite loop that xxunk the connection in a random time . xxmaj from 1 to 10 sec , for example . xxbos</th>\n",
       "  </tr>\n",
       "</table>\n"
      ],
      "text/plain": [
       "<IPython.core.display.HTML object>"
      ]
     },
     "metadata": {},
     "output_type": "display_data"
    }
   ],
   "source": [
    "data_lm.show_batch()"
   ]
  },
  {
   "cell_type": "code",
   "execution_count": 16,
   "metadata": {},
   "outputs": [],
   "source": [
    "# Classifier model data\n",
    "#'bs' = 'batchsize'\n",
    "data_clas = TextClasDataBunch.from_df('data', train_df = train_df, valid_df = valid_df, vocab=data_lm.train_ds.vocab, bs=32)"
   ]
  },
  {
   "cell_type": "code",
   "execution_count": 17,
   "metadata": {},
   "outputs": [
    {
     "data": {
      "text/html": [
       "<table>  <col width='90%'>  <col width='10%'>  <tr>\n",
       "    <th>text</th>\n",
       "    <th>target</th>\n",
       "  </tr>\n",
       "  <tr>\n",
       "    <th>xxbos \" xxmaj thanks , xxmaj an xxmaj xxunk xxrep 16 - xxmaj log of infinite loop on xxmaj buffering : xxmaj state : xxmaj playing xxmaj change position to : xxunk xxrep 4 0 xxmaj state : xxmaj buffering xxmaj buffering : 100.0 % xxmaj state : xxmaj buffering xxmaj state : xxmaj buffering xxmaj buffering : 50.0 % xxmaj buffering : 50.0 % xxmaj buffering : 51.0 %</th>\n",
       "    <th>0</th>\n",
       "  </tr>\n",
       "  <tr>\n",
       "    <th>xxbos xxmaj please do xxunk this post i did about the \" \" xxmaj brazilian xxmaj win 10 xxup ip xxunk still w / 3 xxmaj xxunk xxmaj xxunk xxmaj translations ! \" \" http : / / answers.microsoft.com / en - us / insider / forum / insider_wintp - xxunk / brazilian - xxunk - xxunk - xxunk / xxunk - xxunk - xxunk xxmaj section 1 ) xxmaj</th>\n",
       "    <th>0</th>\n",
       "  </tr>\n",
       "  <tr>\n",
       "    <th>xxbos xxmaj currently xxmaj windows xxup os decides the best xxmaj internet connection and uses it automatically ( xxmaj if i have more than one connection like wifi and xxmaj network cable ) . xxmaj need user setting option to override the same and assign one or more app to use specific network connection ( wifi ) and others to use other possible network connection ( 3 g / 4</th>\n",
       "    <th>1</th>\n",
       "  </tr>\n",
       "  <tr>\n",
       "    <th>xxbos \" xxmaj it would be nice if xxmaj runs / xxmaj xxunk inside a xxmaj richtextblock / xxmaj textblock could support more formatting properties like xxup css - i.e. setting background color or a word , xxmaj it would be nice if xxmaj runs / xxmaj xxunk inside a xxmaj richtextblock / xxmaj textblock could support more formatting properties like xxup css - i.e. setting background color or a</th>\n",
       "    <th>1</th>\n",
       "  </tr>\n",
       "  <tr>\n",
       "    <th>xxbos \" https : / / www.microsoft.com / en - us / store / apps / gps - navigator - recorder / 9nblggh2vvj3 https : / / www.microsoft.com / it - it / store / apps / gps - navigator - recorder / 9nblggh2vvj3 https : / / www.microsoft.com / es - es / store / apps / gps - navigator - recorder / 9nblggh2vvj3 https : / / www.microsoft.com</th>\n",
       "    <th>0</th>\n",
       "  </tr>\n",
       "</table>\n"
      ],
      "text/plain": [
       "<IPython.core.display.HTML object>"
      ]
     },
     "metadata": {},
     "output_type": "display_data"
    }
   ],
   "source": [
    "data_clas.show_batch()"
   ]
  },
  {
   "cell_type": "markdown",
   "metadata": {},
   "source": [
    "#### Training ULMFiT pretrained model by unfreezing weights of all layers"
   ]
  },
  {
   "cell_type": "code",
   "execution_count": 18,
   "metadata": {},
   "outputs": [
    {
     "data": {
      "text/html": [
       "Total time: 00:06 <p><table style='width:300px; margin-bottom:10px'>\n",
       "  <tr>\n",
       "    <th>epoch</th>\n",
       "    <th>train_loss</th>\n",
       "    <th>valid_loss</th>\n",
       "    <th>accuracy</th>\n",
       "  </tr>\n",
       "  <tr>\n",
       "    <th>1</th>\n",
       "    <th>5.156251</th>\n",
       "    <th>4.665867</th>\n",
       "    <th>0.257321</th>\n",
       "  </tr>\n",
       "</table>\n"
      ],
      "text/plain": [
       "<IPython.core.display.HTML object>"
      ]
     },
     "metadata": {},
     "output_type": "display_data"
    }
   ],
   "source": [
    "#learn is the 'language_model_learner' with dropout layers having \n",
    "#drop_mult is the dropout percentage for dropout layers\n",
    "learn = language_model_learner(data_lm, pretrained_model=URLs.WT103, drop_mult=0.4) \n",
    "#make layers re-trainable\n",
    "learn.unfreeze()\n",
    "learn.fit_one_cycle(1, 1e-3)  # FIT ONE CYCLE POLICY\n",
    "wd=1e-7 #weight decay regularization\n",
    "lr=0.001\n",
    "lrs = lr"
   ]
  },
  {
   "cell_type": "code",
   "execution_count": 19,
   "metadata": {},
   "outputs": [
    {
     "data": {
      "text/plain": [
       "'this product should be free before launch . 33 copies of the code'"
      ]
     },
     "execution_count": 19,
     "metadata": {},
     "output_type": "execute_result"
    }
   ],
   "source": [
    "#test language model learner\n",
    "learn.predict(\"this product should\", n_words=10)"
   ]
  },
  {
   "cell_type": "code",
   "execution_count": 20,
   "metadata": {},
   "outputs": [],
   "source": [
    "#save this language model encoder\n",
    "learn.save_encoder('ft_enc1')"
   ]
  },
  {
   "cell_type": "code",
   "execution_count": 21,
   "metadata": {},
   "outputs": [],
   "source": [
    "#load classifier and encoder\n",
    "clf = text_classifier_learner(data_clas, drop_mult=0.4)\n",
    "clf.load_encoder('ft_enc1')"
   ]
  },
  {
   "cell_type": "code",
   "execution_count": 22,
   "metadata": {},
   "outputs": [
    {
     "data": {
      "text/html": [
       "Total time: 00:16 <p><table style='width:300px; margin-bottom:10px'>\n",
       "  <tr>\n",
       "    <th>epoch</th>\n",
       "    <th>train_loss</th>\n",
       "    <th>valid_loss</th>\n",
       "    <th>accuracy</th>\n",
       "  </tr>\n",
       "  <tr>\n",
       "    <th>1</th>\n",
       "    <th>0.477236</th>\n",
       "    <th>0.391633</th>\n",
       "    <th>0.825882</th>\n",
       "  </tr>\n",
       "</table>\n"
      ],
      "text/plain": [
       "<IPython.core.display.HTML object>"
      ]
     },
     "metadata": {},
     "output_type": "display_data"
    },
    {
     "data": {
      "text/html": [
       "Total time: 02:56 <p><table style='width:300px; margin-bottom:10px'>\n",
       "  <tr>\n",
       "    <th>epoch</th>\n",
       "    <th>train_loss</th>\n",
       "    <th>valid_loss</th>\n",
       "    <th>accuracy</th>\n",
       "  </tr>\n",
       "  <tr>\n",
       "    <th>1</th>\n",
       "    <th>0.473858</th>\n",
       "    <th>0.373281</th>\n",
       "    <th>0.816471</th>\n",
       "  </tr>\n",
       "  <tr>\n",
       "    <th>2</th>\n",
       "    <th>0.414071</th>\n",
       "    <th>0.354965</th>\n",
       "    <th>0.837647</th>\n",
       "  </tr>\n",
       "  <tr>\n",
       "    <th>3</th>\n",
       "    <th>0.433779</th>\n",
       "    <th>0.348081</th>\n",
       "    <th>0.835294</th>\n",
       "  </tr>\n",
       "  <tr>\n",
       "    <th>4</th>\n",
       "    <th>0.436459</th>\n",
       "    <th>0.331488</th>\n",
       "    <th>0.840000</th>\n",
       "  </tr>\n",
       "  <tr>\n",
       "    <th>5</th>\n",
       "    <th>0.428729</th>\n",
       "    <th>0.339323</th>\n",
       "    <th>0.840000</th>\n",
       "  </tr>\n",
       "  <tr>\n",
       "    <th>6</th>\n",
       "    <th>0.405324</th>\n",
       "    <th>0.335680</th>\n",
       "    <th>0.832941</th>\n",
       "  </tr>\n",
       "  <tr>\n",
       "    <th>7</th>\n",
       "    <th>0.430015</th>\n",
       "    <th>0.336909</th>\n",
       "    <th>0.837647</th>\n",
       "  </tr>\n",
       "  <tr>\n",
       "    <th>8</th>\n",
       "    <th>0.424907</th>\n",
       "    <th>0.334662</th>\n",
       "    <th>0.842353</th>\n",
       "  </tr>\n",
       "  <tr>\n",
       "    <th>9</th>\n",
       "    <th>0.457630</th>\n",
       "    <th>0.338293</th>\n",
       "    <th>0.840000</th>\n",
       "  </tr>\n",
       "  <tr>\n",
       "    <th>10</th>\n",
       "    <th>0.416570</th>\n",
       "    <th>0.319682</th>\n",
       "    <th>0.851765</th>\n",
       "  </tr>\n",
       "</table>\n"
      ],
      "text/plain": [
       "<IPython.core.display.HTML object>"
      ]
     },
     "metadata": {},
     "output_type": "display_data"
    }
   ],
   "source": [
    "#train classifier for 1+10 epochs\n",
    "clf.fit_one_cycle(1, 1e-3)\n",
    "clf.fit(10,lrs,wd)"
   ]
  },
  {
   "cell_type": "code",
   "execution_count": 62,
   "metadata": {},
   "outputs": [
    {
     "data": {
      "text/plain": [
       "(Category 1, tensor(1), tensor([0.1879, 0.8121]))"
      ]
     },
     "execution_count": 62,
     "metadata": {},
     "output_type": "execute_result"
    }
   ],
   "source": [
    "#let us test our classifier\n",
    "clf.predict(\"I would like to have a feature that connects me to other users.\")"
   ]
  },
  {
   "cell_type": "markdown",
   "metadata": {},
   "source": [
    "#### Testing on unseen data, downloaded originally as \"SubtaskA_Trial_Test_Labeled.csv\""
   ]
  },
  {
   "cell_type": "code",
   "execution_count": 24,
   "metadata": {},
   "outputs": [],
   "source": [
    "#let us try this classifier on an unseen data \n",
    "labeled_data = pd.read_csv('labeled_test_data.csv', encoding = \"ISO-8859-1\")"
   ]
  },
  {
   "cell_type": "code",
   "execution_count": 25,
   "metadata": {},
   "outputs": [
    {
     "name": "stdout",
     "output_type": "stream",
     "text": [
      "        id  sentence\n",
      "label               \n",
      "0      296       296\n",
      "1      296       296\n",
      "\n",
      "data length: 592\n"
     ]
    }
   ],
   "source": [
    "# A very balanced test data indeed\n",
    "print(labeled_data.groupby('label').count())\n",
    "print('\\ndata length:',len(labeled_data))"
   ]
  },
  {
   "cell_type": "code",
   "execution_count": 26,
   "metadata": {},
   "outputs": [
    {
     "data": {
      "text/html": [
       "<div>\n",
       "<style scoped>\n",
       "    .dataframe tbody tr th:only-of-type {\n",
       "        vertical-align: middle;\n",
       "    }\n",
       "\n",
       "    .dataframe tbody tr th {\n",
       "        vertical-align: top;\n",
       "    }\n",
       "\n",
       "    .dataframe thead th {\n",
       "        text-align: right;\n",
       "    }\n",
       "</style>\n",
       "<table border=\"1\" class=\"dataframe\">\n",
       "  <thead>\n",
       "    <tr style=\"text-align: right;\">\n",
       "      <th></th>\n",
       "      <th>id</th>\n",
       "      <th>sentence</th>\n",
       "      <th>label</th>\n",
       "    </tr>\n",
       "  </thead>\n",
       "  <tbody>\n",
       "    <tr>\n",
       "      <th>0</th>\n",
       "      <td>1310_1</td>\n",
       "      <td>I'm not asking Microsoft to Gives permission l...</td>\n",
       "      <td>1</td>\n",
       "    </tr>\n",
       "    <tr>\n",
       "      <th>1</th>\n",
       "      <td>1312_1</td>\n",
       "      <td>somewhere between Android and iPhone.</td>\n",
       "      <td>0</td>\n",
       "    </tr>\n",
       "    <tr>\n",
       "      <th>2</th>\n",
       "      <td>1313_1</td>\n",
       "      <td>And in the Windows Store you can flag the App ...</td>\n",
       "      <td>0</td>\n",
       "    </tr>\n",
       "    <tr>\n",
       "      <th>3</th>\n",
       "      <td>1313_2</td>\n",
       "      <td>Many thanks Sameh Hi, As we know, there is a l...</td>\n",
       "      <td>0</td>\n",
       "    </tr>\n",
       "    <tr>\n",
       "      <th>4</th>\n",
       "      <td>1313_3</td>\n",
       "      <td>The idea is that we can develop a regular app ...</td>\n",
       "      <td>1</td>\n",
       "    </tr>\n",
       "  </tbody>\n",
       "</table>\n",
       "</div>"
      ],
      "text/plain": [
       "       id                                           sentence  label\n",
       "0  1310_1  I'm not asking Microsoft to Gives permission l...      1\n",
       "1  1312_1              somewhere between Android and iPhone.      0\n",
       "2  1313_1  And in the Windows Store you can flag the App ...      0\n",
       "3  1313_2  Many thanks Sameh Hi, As we know, there is a l...      0\n",
       "4  1313_3  The idea is that we can develop a regular app ...      1"
      ]
     },
     "execution_count": 26,
     "metadata": {},
     "output_type": "execute_result"
    }
   ],
   "source": [
    "labeled_data.head()"
   ]
  },
  {
   "cell_type": "code",
   "execution_count": 27,
   "metadata": {},
   "outputs": [],
   "source": [
    "predictions = []"
   ]
  },
  {
   "cell_type": "code",
   "execution_count": 28,
   "metadata": {},
   "outputs": [],
   "source": [
    "#let us classify each sentence\n",
    "for i in range(0,len(labeled_data)):\n",
    "    prediction = clf.predict(labeled_data['sentence'][i])\n",
    "    val = str(prediction[1])[-2:-1] #to get '1' or '0' (as string) from the prediction output which looks like\n",
    "                                    #(Category 1, tensor(1), tensor([0.3325, 0.6675]))    \n",
    "    val = int(val) #convert to int\n",
    "    predictions.append(val) #append result to predictions list"
   ]
  },
  {
   "cell_type": "code",
   "execution_count": 29,
   "metadata": {},
   "outputs": [],
   "source": [
    "#add predictions to our labeled data\n",
    "labeled_data['predictions'] = predictions"
   ]
  },
  {
   "cell_type": "code",
   "execution_count": 30,
   "metadata": {},
   "outputs": [
    {
     "data": {
      "text/html": [
       "<div>\n",
       "<style scoped>\n",
       "    .dataframe tbody tr th:only-of-type {\n",
       "        vertical-align: middle;\n",
       "    }\n",
       "\n",
       "    .dataframe tbody tr th {\n",
       "        vertical-align: top;\n",
       "    }\n",
       "\n",
       "    .dataframe thead th {\n",
       "        text-align: right;\n",
       "    }\n",
       "</style>\n",
       "<table border=\"1\" class=\"dataframe\">\n",
       "  <thead>\n",
       "    <tr style=\"text-align: right;\">\n",
       "      <th></th>\n",
       "      <th>id</th>\n",
       "      <th>sentence</th>\n",
       "      <th>label</th>\n",
       "      <th>predictions</th>\n",
       "    </tr>\n",
       "  </thead>\n",
       "  <tbody>\n",
       "    <tr>\n",
       "      <th>0</th>\n",
       "      <td>1310_1</td>\n",
       "      <td>I'm not asking Microsoft to Gives permission l...</td>\n",
       "      <td>1</td>\n",
       "      <td>1</td>\n",
       "    </tr>\n",
       "    <tr>\n",
       "      <th>1</th>\n",
       "      <td>1312_1</td>\n",
       "      <td>somewhere between Android and iPhone.</td>\n",
       "      <td>0</td>\n",
       "      <td>0</td>\n",
       "    </tr>\n",
       "    <tr>\n",
       "      <th>2</th>\n",
       "      <td>1313_1</td>\n",
       "      <td>And in the Windows Store you can flag the App ...</td>\n",
       "      <td>0</td>\n",
       "      <td>0</td>\n",
       "    </tr>\n",
       "    <tr>\n",
       "      <th>3</th>\n",
       "      <td>1313_2</td>\n",
       "      <td>Many thanks Sameh Hi, As we know, there is a l...</td>\n",
       "      <td>0</td>\n",
       "      <td>0</td>\n",
       "    </tr>\n",
       "    <tr>\n",
       "      <th>4</th>\n",
       "      <td>1313_3</td>\n",
       "      <td>The idea is that we can develop a regular app ...</td>\n",
       "      <td>1</td>\n",
       "      <td>0</td>\n",
       "    </tr>\n",
       "  </tbody>\n",
       "</table>\n",
       "</div>"
      ],
      "text/plain": [
       "       id                                           sentence  label  \\\n",
       "0  1310_1  I'm not asking Microsoft to Gives permission l...      1   \n",
       "1  1312_1              somewhere between Android and iPhone.      0   \n",
       "2  1313_1  And in the Windows Store you can flag the App ...      0   \n",
       "3  1313_2  Many thanks Sameh Hi, As we know, there is a l...      0   \n",
       "4  1313_3  The idea is that we can develop a regular app ...      1   \n",
       "\n",
       "   predictions  \n",
       "0            1  \n",
       "1            0  \n",
       "2            0  \n",
       "3            0  \n",
       "4            0  "
      ]
     },
     "execution_count": 30,
     "metadata": {},
     "output_type": "execute_result"
    }
   ],
   "source": [
    "labeled_data.head()"
   ]
  },
  {
   "cell_type": "markdown",
   "metadata": {},
   "source": [
    "#### Let us check the accuracy and F1 score"
   ]
  },
  {
   "cell_type": "code",
   "execution_count": 31,
   "metadata": {},
   "outputs": [
    {
     "name": "stdout",
     "output_type": "stream",
     "text": [
      "acc:  0.6926\n",
      "F1:   0.6128\n"
     ]
    }
   ],
   "source": [
    "print('acc: ',accuracy_score(labeled_data['label'], labeled_data['predictions']).round(4))\n",
    "print('F1:  ',f1_score(labeled_data['label'], labeled_data['predictions'],average='binary').round(4))"
   ]
  },
  {
   "cell_type": "markdown",
   "metadata": {},
   "source": [
    "\n",
    "\n",
    "\n",
    "\n",
    "\n"
   ]
  },
  {
   "cell_type": "markdown",
   "metadata": {},
   "source": [
    " "
   ]
  },
  {
   "cell_type": "markdown",
   "metadata": {},
   "source": [
    " "
   ]
  },
  {
   "cell_type": "markdown",
   "metadata": {},
   "source": [
    " ### Downsampling the data set"
   ]
  },
  {
   "cell_type": "markdown",
   "metadata": {},
   "source": [
    "#### Let us try the second approach, ie: downsampling 0 class"
   ]
  },
  {
   "cell_type": "code",
   "execution_count": 32,
   "metadata": {},
   "outputs": [],
   "source": [
    "#downsample 0 class\n",
    "#pick row indexes having label = 0\n",
    "zero_label_indexes = df[df['label']==0].index"
   ]
  },
  {
   "cell_type": "code",
   "execution_count": 33,
   "metadata": {},
   "outputs": [
    {
     "data": {
      "text/plain": [
       "Index(['1', '2', '3', '4', '5', '6', '7', '9', '10', '11',\n",
       "       ...\n",
       "       '8489', '8490', '8491', '8492', '8493', '8494', '8495', '8496', '8497',\n",
       "       '8498'],\n",
       "      dtype='object', length=6414)"
      ]
     },
     "execution_count": 33,
     "metadata": {},
     "output_type": "execute_result"
    }
   ],
   "source": [
    "zero_label_indexes"
   ]
  },
  {
   "cell_type": "code",
   "execution_count": 34,
   "metadata": {},
   "outputs": [],
   "source": [
    "np.random.seed(10)\n",
    "\n",
    "remove_n = 4300 #we pick 4300 random rows which are labeled as 0\n",
    "drop_indices = np.random.choice(zero_label_indexes, remove_n, replace=False)"
   ]
  },
  {
   "cell_type": "code",
   "execution_count": 35,
   "metadata": {},
   "outputs": [
    {
     "data": {
      "text/plain": [
       "4300"
      ]
     },
     "execution_count": 35,
     "metadata": {},
     "output_type": "execute_result"
    }
   ],
   "source": [
    "len(drop_indices)"
   ]
  },
  {
   "cell_type": "code",
   "execution_count": 36,
   "metadata": {},
   "outputs": [],
   "source": [
    "df_downsampled = df.drop(drop_indices)"
   ]
  },
  {
   "cell_type": "code",
   "execution_count": 37,
   "metadata": {},
   "outputs": [
    {
     "data": {
      "text/plain": [
       "0    2114\n",
       "1    2085\n",
       "Name: label, dtype: int64"
      ]
     },
     "execution_count": 37,
     "metadata": {},
     "output_type": "execute_result"
    }
   ],
   "source": [
    "#Quite balanced!\n",
    "df_downsampled['label'].value_counts()"
   ]
  },
  {
   "cell_type": "code",
   "execution_count": 38,
   "metadata": {},
   "outputs": [],
   "source": [
    "#Same process of splitting data into validation and training set \n",
    "valid_pct = 0.05 #validation percent\n",
    "cut = int(valid_pct * len(df_downsampled)) + 1\n",
    "train_df_ds, valid_df_ds = df_downsampled[cut:], df_downsampled[:cut] #'ds' = 'downsampled'\n",
    "data_lm_new = TextLMDataBunch.from_df('data', train_df_ds, valid_df_ds, text_cols='text')"
   ]
  },
  {
   "cell_type": "code",
   "execution_count": 39,
   "metadata": {},
   "outputs": [],
   "source": [
    "# new Classifier model data\n",
    "data_clas_new = TextClasDataBunch.from_df('data', train_df = train_df_ds, valid_df = valid_df_ds, vocab=data_lm_new.train_ds.vocab, bs=32)"
   ]
  },
  {
   "cell_type": "code",
   "execution_count": 40,
   "metadata": {},
   "outputs": [
    {
     "data": {
      "text/html": [
       "Total time: 00:03 <p><table style='width:300px; margin-bottom:10px'>\n",
       "  <tr>\n",
       "    <th>epoch</th>\n",
       "    <th>train_loss</th>\n",
       "    <th>valid_loss</th>\n",
       "    <th>accuracy</th>\n",
       "  </tr>\n",
       "  <tr>\n",
       "    <th>1</th>\n",
       "    <th>5.323115</th>\n",
       "    <th>4.641438</th>\n",
       "    <th>0.271205</th>\n",
       "  </tr>\n",
       "</table>\n"
      ],
      "text/plain": [
       "<IPython.core.display.HTML object>"
      ]
     },
     "metadata": {},
     "output_type": "display_data"
    }
   ],
   "source": [
    "#new language model learner based on our downsampled training data\n",
    "learn_new = language_model_learner(data_lm_new, pretrained_model=URLs.WT103, drop_mult=0.4)\n",
    "learn_new.unfreeze()\n",
    "learn_new.fit_one_cycle(1, 1e-3)  \n",
    "wd=1e-7\n",
    "lr=0.001\n",
    "lrs = lr"
   ]
  },
  {
   "cell_type": "code",
   "execution_count": 41,
   "metadata": {},
   "outputs": [
    {
     "data": {
      "text/plain": [
       "'This feature is known as the \" great fire of the state \"'"
      ]
     },
     "execution_count": 41,
     "metadata": {},
     "output_type": "execute_result"
    }
   ],
   "source": [
    "learn_new.predict('This feature is', n_words=10)"
   ]
  },
  {
   "cell_type": "code",
   "execution_count": 42,
   "metadata": {},
   "outputs": [],
   "source": [
    "#save new encoder\n",
    "learn_new.save_encoder('ft_enc_new')"
   ]
  },
  {
   "cell_type": "code",
   "execution_count": 43,
   "metadata": {},
   "outputs": [],
   "source": [
    "#load classifier\n",
    "clf_new = text_classifier_learner(data_clas_new, drop_mult=0.4)\n",
    "clf_new.load_encoder('ft_enc_new')"
   ]
  },
  {
   "cell_type": "code",
   "execution_count": 44,
   "metadata": {},
   "outputs": [
    {
     "data": {
      "text/html": [
       "Total time: 00:09 <p><table style='width:300px; margin-bottom:10px'>\n",
       "  <tr>\n",
       "    <th>epoch</th>\n",
       "    <th>train_loss</th>\n",
       "    <th>valid_loss</th>\n",
       "    <th>accuracy</th>\n",
       "  </tr>\n",
       "  <tr>\n",
       "    <th>1</th>\n",
       "    <th>0.587366</th>\n",
       "    <th>0.542312</th>\n",
       "    <th>0.733333</th>\n",
       "  </tr>\n",
       "</table>\n"
      ],
      "text/plain": [
       "<IPython.core.display.HTML object>"
      ]
     },
     "metadata": {},
     "output_type": "display_data"
    },
    {
     "data": {
      "text/html": [
       "Total time: 01:31 <p><table style='width:300px; margin-bottom:10px'>\n",
       "  <tr>\n",
       "    <th>epoch</th>\n",
       "    <th>train_loss</th>\n",
       "    <th>valid_loss</th>\n",
       "    <th>accuracy</th>\n",
       "  </tr>\n",
       "  <tr>\n",
       "    <th>1</th>\n",
       "    <th>0.569483</th>\n",
       "    <th>0.542971</th>\n",
       "    <th>0.704762</th>\n",
       "  </tr>\n",
       "  <tr>\n",
       "    <th>2</th>\n",
       "    <th>0.560170</th>\n",
       "    <th>0.527375</th>\n",
       "    <th>0.738095</th>\n",
       "  </tr>\n",
       "  <tr>\n",
       "    <th>3</th>\n",
       "    <th>0.556609</th>\n",
       "    <th>0.548961</th>\n",
       "    <th>0.728571</th>\n",
       "  </tr>\n",
       "  <tr>\n",
       "    <th>4</th>\n",
       "    <th>0.520111</th>\n",
       "    <th>0.526778</th>\n",
       "    <th>0.742857</th>\n",
       "  </tr>\n",
       "  <tr>\n",
       "    <th>5</th>\n",
       "    <th>0.544389</th>\n",
       "    <th>0.556852</th>\n",
       "    <th>0.742857</th>\n",
       "  </tr>\n",
       "  <tr>\n",
       "    <th>6</th>\n",
       "    <th>0.530961</th>\n",
       "    <th>0.602505</th>\n",
       "    <th>0.738095</th>\n",
       "  </tr>\n",
       "  <tr>\n",
       "    <th>7</th>\n",
       "    <th>0.508075</th>\n",
       "    <th>0.540611</th>\n",
       "    <th>0.728571</th>\n",
       "  </tr>\n",
       "  <tr>\n",
       "    <th>8</th>\n",
       "    <th>0.522072</th>\n",
       "    <th>0.483270</th>\n",
       "    <th>0.771429</th>\n",
       "  </tr>\n",
       "  <tr>\n",
       "    <th>9</th>\n",
       "    <th>0.502235</th>\n",
       "    <th>0.502481</th>\n",
       "    <th>0.747619</th>\n",
       "  </tr>\n",
       "  <tr>\n",
       "    <th>10</th>\n",
       "    <th>0.527123</th>\n",
       "    <th>0.558401</th>\n",
       "    <th>0.733333</th>\n",
       "  </tr>\n",
       "</table>\n"
      ],
      "text/plain": [
       "<IPython.core.display.HTML object>"
      ]
     },
     "metadata": {},
     "output_type": "display_data"
    }
   ],
   "source": [
    "#train classifier for 1 + 10 epochs\n",
    "clf_new.fit_one_cycle(1, 1e-3)\n",
    "clf_new.fit(10,lrs,wd)"
   ]
  },
  {
   "cell_type": "code",
   "execution_count": 45,
   "metadata": {},
   "outputs": [
    {
     "data": {
      "text/plain": [
       "(Category 1, tensor(1), tensor([0.1172, 0.8828]))"
      ]
     },
     "execution_count": 45,
     "metadata": {},
     "output_type": "execute_result"
    }
   ],
   "source": [
    "#let us try the classifier\n",
    "clf_new.predict(\"It would be nice to have this feature incorporated soon.\")"
   ]
  },
  {
   "cell_type": "markdown",
   "metadata": {},
   "source": [
    "#### Let us try to predict on our unseen data"
   ]
  },
  {
   "cell_type": "code",
   "execution_count": 46,
   "metadata": {},
   "outputs": [],
   "source": [
    "new_predictions = []"
   ]
  },
  {
   "cell_type": "code",
   "execution_count": 47,
   "metadata": {},
   "outputs": [],
   "source": [
    "for i in range(0,len(labeled_data)):\n",
    "    prediction = clf_new.predict(labeled_data['sentence'][i])\n",
    "    val = str(prediction[1])[-2:-1]\n",
    "    val = int(val)\n",
    "    new_predictions.append(val)"
   ]
  },
  {
   "cell_type": "code",
   "execution_count": 48,
   "metadata": {},
   "outputs": [],
   "source": [
    "labeled_data['new_predictions'] = new_predictions"
   ]
  },
  {
   "cell_type": "code",
   "execution_count": 49,
   "metadata": {},
   "outputs": [
    {
     "data": {
      "text/html": [
       "<div>\n",
       "<style scoped>\n",
       "    .dataframe tbody tr th:only-of-type {\n",
       "        vertical-align: middle;\n",
       "    }\n",
       "\n",
       "    .dataframe tbody tr th {\n",
       "        vertical-align: top;\n",
       "    }\n",
       "\n",
       "    .dataframe thead th {\n",
       "        text-align: right;\n",
       "    }\n",
       "</style>\n",
       "<table border=\"1\" class=\"dataframe\">\n",
       "  <thead>\n",
       "    <tr style=\"text-align: right;\">\n",
       "      <th></th>\n",
       "      <th>id</th>\n",
       "      <th>sentence</th>\n",
       "      <th>label</th>\n",
       "      <th>predictions</th>\n",
       "      <th>new_predictions</th>\n",
       "    </tr>\n",
       "  </thead>\n",
       "  <tbody>\n",
       "    <tr>\n",
       "      <th>0</th>\n",
       "      <td>1310_1</td>\n",
       "      <td>I'm not asking Microsoft to Gives permission l...</td>\n",
       "      <td>1</td>\n",
       "      <td>1</td>\n",
       "      <td>1</td>\n",
       "    </tr>\n",
       "    <tr>\n",
       "      <th>1</th>\n",
       "      <td>1312_1</td>\n",
       "      <td>somewhere between Android and iPhone.</td>\n",
       "      <td>0</td>\n",
       "      <td>0</td>\n",
       "      <td>0</td>\n",
       "    </tr>\n",
       "    <tr>\n",
       "      <th>2</th>\n",
       "      <td>1313_1</td>\n",
       "      <td>And in the Windows Store you can flag the App ...</td>\n",
       "      <td>0</td>\n",
       "      <td>0</td>\n",
       "      <td>1</td>\n",
       "    </tr>\n",
       "    <tr>\n",
       "      <th>3</th>\n",
       "      <td>1313_2</td>\n",
       "      <td>Many thanks Sameh Hi, As we know, there is a l...</td>\n",
       "      <td>0</td>\n",
       "      <td>0</td>\n",
       "      <td>1</td>\n",
       "    </tr>\n",
       "    <tr>\n",
       "      <th>4</th>\n",
       "      <td>1313_3</td>\n",
       "      <td>The idea is that we can develop a regular app ...</td>\n",
       "      <td>1</td>\n",
       "      <td>0</td>\n",
       "      <td>0</td>\n",
       "    </tr>\n",
       "  </tbody>\n",
       "</table>\n",
       "</div>"
      ],
      "text/plain": [
       "       id                                           sentence  label  \\\n",
       "0  1310_1  I'm not asking Microsoft to Gives permission l...      1   \n",
       "1  1312_1              somewhere between Android and iPhone.      0   \n",
       "2  1313_1  And in the Windows Store you can flag the App ...      0   \n",
       "3  1313_2  Many thanks Sameh Hi, As we know, there is a l...      0   \n",
       "4  1313_3  The idea is that we can develop a regular app ...      1   \n",
       "\n",
       "   predictions  new_predictions  \n",
       "0            1                1  \n",
       "1            0                0  \n",
       "2            0                1  \n",
       "3            0                1  \n",
       "4            0                0  "
      ]
     },
     "execution_count": 49,
     "metadata": {},
     "output_type": "execute_result"
    }
   ],
   "source": [
    "labeled_data.head()"
   ]
  },
  {
   "cell_type": "code",
   "execution_count": 50,
   "metadata": {},
   "outputs": [
    {
     "name": "stdout",
     "output_type": "stream",
     "text": [
      "acc:  0.7331081081081081\n",
      "F1:  0.7591463414634146\n"
     ]
    }
   ],
   "source": [
    "print('acc: ',accuracy_score(labeled_data['label'], labeled_data['new_predictions']))\n",
    "print('F1: ', f1_score(labeled_data['label'], labeled_data['new_predictions'],average='binary'))"
   ]
  },
  {
   "cell_type": "markdown",
   "metadata": {},
   "source": [
    "### Let us compare"
   ]
  },
  {
   "cell_type": "code",
   "execution_count": 51,
   "metadata": {},
   "outputs": [
    {
     "name": "stdout",
     "output_type": "stream",
     "text": [
      "acc: 0.6926\n",
      "F1:  0.6128\n",
      "\n",
      "After downsampling...\n",
      "\n",
      "acc: 0.7331\n",
      "F1:  0.7591\n"
     ]
    }
   ],
   "source": [
    "print('acc:',accuracy_score(labeled_data['label'], labeled_data['predictions']).round(4))\n",
    "print('F1: ', f1_score(labeled_data['label'], labeled_data['predictions'],average='binary').round(4))\n",
    "print('\\nAfter downsampling...')\n",
    "print('\\nacc:',accuracy_score(labeled_data['label'], labeled_data['new_predictions']).round(4))\n",
    "print('F1: ', f1_score(labeled_data['label'], labeled_data['new_predictions'],average='binary').round(4))"
   ]
  },
  {
   "cell_type": "markdown",
   "metadata": {},
   "source": [
    "### Let us generate our submission csv file\n",
    "#### Unlabeled test data was originally downloaded as \"SubtaskA_EvaluationData.csv\""
   ]
  },
  {
   "cell_type": "code",
   "execution_count": 52,
   "metadata": {},
   "outputs": [
    {
     "data": {
      "text/html": [
       "<div>\n",
       "<style scoped>\n",
       "    .dataframe tbody tr th:only-of-type {\n",
       "        vertical-align: middle;\n",
       "    }\n",
       "\n",
       "    .dataframe tbody tr th {\n",
       "        vertical-align: top;\n",
       "    }\n",
       "\n",
       "    .dataframe thead th {\n",
       "        text-align: right;\n",
       "    }\n",
       "</style>\n",
       "<table border=\"1\" class=\"dataframe\">\n",
       "  <thead>\n",
       "    <tr style=\"text-align: right;\">\n",
       "      <th></th>\n",
       "      <th>id</th>\n",
       "      <th>text</th>\n",
       "      <th>prediction</th>\n",
       "    </tr>\n",
       "  </thead>\n",
       "  <tbody>\n",
       "    <tr>\n",
       "      <th>0</th>\n",
       "      <td>9566</td>\n",
       "      <td>This would enable live traffic aware apps.</td>\n",
       "      <td>X</td>\n",
       "    </tr>\n",
       "    <tr>\n",
       "      <th>1</th>\n",
       "      <td>9569</td>\n",
       "      <td>Please try other formatting like bold italics ...</td>\n",
       "      <td>X</td>\n",
       "    </tr>\n",
       "    <tr>\n",
       "      <th>2</th>\n",
       "      <td>9576</td>\n",
       "      <td>Since computers were invented to save time I s...</td>\n",
       "      <td>X</td>\n",
       "    </tr>\n",
       "    <tr>\n",
       "      <th>3</th>\n",
       "      <td>9577</td>\n",
       "      <td>Allow rearranging if the user wants to change ...</td>\n",
       "      <td>X</td>\n",
       "    </tr>\n",
       "    <tr>\n",
       "      <th>4</th>\n",
       "      <td>9579</td>\n",
       "      <td>Add SIMD instructions for better use of ARM NE...</td>\n",
       "      <td>X</td>\n",
       "    </tr>\n",
       "  </tbody>\n",
       "</table>\n",
       "</div>"
      ],
      "text/plain": [
       "     id                                               text prediction\n",
       "0  9566         This would enable live traffic aware apps.          X\n",
       "1  9569  Please try other formatting like bold italics ...          X\n",
       "2  9576  Since computers were invented to save time I s...          X\n",
       "3  9577  Allow rearranging if the user wants to change ...          X\n",
       "4  9579  Add SIMD instructions for better use of ARM NE...          X"
      ]
     },
     "execution_count": 52,
     "metadata": {},
     "output_type": "execute_result"
    }
   ],
   "source": [
    "#load test data\n",
    "test_data = pd.read_csv('test_data_nlp.csv')\n",
    "test_data.head()"
   ]
  },
  {
   "cell_type": "code",
   "execution_count": 53,
   "metadata": {},
   "outputs": [],
   "source": [
    "#drop predictions column\n",
    "test_data = test_data.drop(['prediction'],axis=1)"
   ]
  },
  {
   "cell_type": "code",
   "execution_count": 54,
   "metadata": {},
   "outputs": [],
   "source": [
    "final_predictions=[]"
   ]
  },
  {
   "cell_type": "code",
   "execution_count": 55,
   "metadata": {},
   "outputs": [],
   "source": [
    "for i in range(0,len(test_data)):\n",
    "    prediction = clf_new.predict(test_data['text'][i])\n",
    "    val = str(prediction[1])[-2:-1]\n",
    "    val = int(val)\n",
    "    final_predictions.append(val)"
   ]
  },
  {
   "cell_type": "code",
   "execution_count": 56,
   "metadata": {},
   "outputs": [],
   "source": [
    "test_data['prediction'] = final_predictions"
   ]
  },
  {
   "cell_type": "code",
   "execution_count": 58,
   "metadata": {},
   "outputs": [],
   "source": [
    "test_data.to_csv('Rituraj_Singh.csv', header=False, index=False)"
   ]
  },
  {
   "cell_type": "markdown",
   "metadata": {},
   "source": [
    "### And finally,"
   ]
  },
  {
   "cell_type": "code",
   "execution_count": 57,
   "metadata": {},
   "outputs": [
    {
     "name": "stdout",
     "output_type": "stream",
     "text": [
      "(Category 0, tensor(0), tensor([0.5303, 0.4697]))\n",
      "(Category 1, tensor(1), tensor([0.2712, 0.7288]))\n"
     ]
    }
   ],
   "source": [
    "print(clf.predict(\"MIDAS should hire me as a research intern!\"))\n",
    "print(clf_new.predict(\"MIDAS should hire me as a research intern!\")) \n",
    "#The second classifier seems to have a stronger opinion :D"
   ]
  }
 ],
 "metadata": {
  "kernelspec": {
   "display_name": "Python 3",
   "language": "python",
   "name": "python3"
  },
  "language_info": {
   "codemirror_mode": {
    "name": "ipython",
    "version": 3
   },
   "file_extension": ".py",
   "mimetype": "text/x-python",
   "name": "python",
   "nbconvert_exporter": "python",
   "pygments_lexer": "ipython3",
   "version": "3.6.5"
  }
 },
 "nbformat": 4,
 "nbformat_minor": 2
}
